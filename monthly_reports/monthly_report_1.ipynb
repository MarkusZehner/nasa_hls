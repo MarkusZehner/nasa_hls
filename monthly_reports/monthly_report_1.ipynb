{
 "cells": [
  {
   "cell_type": "markdown",
   "metadata": {},
   "source": [
    "# Nasa_hls Monthly Report 1"
   ]
  },
  {
   "cell_type": "markdown",
   "metadata": {},
   "source": [
    "## What we did?\n",
    "\n",
    "- Get a basic understanding of the `nasa_hls` package and its functions\n",
    "- Studying Git and its best pratice workflow\n",
    "- Trying to get into working collabortively with git and github\n",
    "- Forked and Cloned main repo of `nasa_hls`\n",
    "- Creation of branches for working on different functionalities\n",
    "- Hands on the first of the four tasks blocks of our project: **Spatial Querying**\n",
    "- merging developments of the branches into the master branch\n",
    "\n",
    "\n",
    "\n"
   ]
  },
  {
   "cell_type": "markdown",
   "metadata": {},
   "source": [
    "### Implemented functions:\n",
    "- creation of module **`spatial_querying`**\n",
    "- within the module the following functions exist:\n",
    "    - `download_kml()`\n",
    "    - `get_required_tiles_from_utm()`\n",
    "    - `get_available_datasets_from_tiles()`"
   ]
  },
  {
   "cell_type": "markdown",
   "metadata": {},
   "source": [
    "## Tutorial on how to use current code"
   ]
  },
  {
   "cell_type": "code",
   "execution_count": null,
   "metadata": {},
   "outputs": [],
   "source": [
    "from nasa_hls import spatial_querying"
   ]
  },
  {
   "cell_type": "markdown",
   "metadata": {},
   "source": [
    "## What we plan to do next\n",
    "- Create gdal-vrt \n",
    "- Import downloaded .hdf and user .shp into vrt\n",
    "- Perform image mosaicing inside vrt\n",
    "- Crop and export"
   ]
  },
  {
   "cell_type": "markdown",
   "metadata": {},
   "source": [
    "## Problems\n",
    "\n",
    "- Path definitions, still hard coded. General information about path handling would be very helpful"
   ]
  },
  {
   "cell_type": "code",
   "execution_count": null,
   "metadata": {},
   "outputs": [],
   "source": []
  }
 ],
 "metadata": {
  "kernelspec": {
   "display_name": "Python 3",
   "language": "python",
   "name": "python3"
  },
  "language_info": {
   "codemirror_mode": {
    "name": "ipython",
    "version": 3
   },
   "file_extension": ".py",
   "mimetype": "text/x-python",
   "name": "python",
   "nbconvert_exporter": "python",
   "pygments_lexer": "ipython3",
   "version": "3.7.4"
  }
 },
 "nbformat": 4,
 "nbformat_minor": 2
}
