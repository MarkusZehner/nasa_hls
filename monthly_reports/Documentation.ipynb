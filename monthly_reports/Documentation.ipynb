{
 "cells": [
  {
   "cell_type": "markdown",
   "metadata": {},
   "source": [
    "# API development for download of Sentinel-2 and Landsat-8 data\n",
    "### User defined mosaicing of harmonised products\n",
    "_Robin Kohrs & Konstantin Schellenberg, February 2020, GEO 419_  \n",
    "_Supervisor: John Truckenbrodt¹, Martin Habermeyer²_ <br>\n",
    "<sub><sub>\n",
    "¹ Friedrich-Schiller-University Jena, chair of remote sensing <br>\n",
    "² Deutsches Luft- und Raumfahrtszentrum, earth observation center\n",
    "</sub></sub>\n",
    "\n",
    "## Tutorial\n",
    "This is the extention for nasa_hls. We developed following new functions:\n",
    "\n",
    "In order to make the program be more flexible, the goal of this extension is to\n",
    "1. Download tiles by setting spatial (user defined verctor geometry) and temporal inqueries to the HLS server,\n",
    "2. Mosaic the HDF4 formatted product per band and acquisition date.\n",
    "\n",
    "As part of the module report will want to add the following post procession tasks: \n",
    "3. Calculate spectral indexes from the downloaded products.\n",
    "4. Plot the results inline with `ipyleafet` and `folium` on a Open Street Map WMS service.\n",
    "\n",
    "Tasks 1 and 2 are meant to work in accordance with the `nasa_hls` package and aims to lead to a pull request to the repository; 3 and 4 shall give an overview of to use the new utilities and the HLS product.\n",
    "\n",
    "User guide to the HLS product:\n",
    "https://hls.gsfc.nasa.gov/wp-content/uploads/2019/01/HLS.v1.4.UserGuide_draft_ver3.1.pdf"
   ]
  },
  {
   "cell_type": "markdown",
   "metadata": {},
   "source": [
    "## <font color = \"red\"> Download HSL files with user input</font>"
   ]
  },
  {
   "cell_type": "code",
   "execution_count": 1,
   "metadata": {
    "pycharm": {
     "is_executing": false
    }
   },
   "outputs": [],
   "source": [
    "# change working directory \n",
    "import os\n",
    "os.chdir(\"/home/aleko-kon/projects/nasa_hls\")"
   ]
  },
  {
   "cell_type": "code",
   "execution_count": 2,
   "metadata": {
    "pycharm": {
     "is_executing": false
    }
   },
   "outputs": [],
   "source": [
    "import warnings\n",
    "warnings.simplefilter(\"ignore\")"
   ]
  },
  {
   "cell_type": "code",
   "execution_count": 3,
   "metadata": {
    "pycharm": {
     "is_executing": false,
     "name": "#%%\n"
    }
   },
   "outputs": [],
   "source": [
    "%matplotlib inline\n",
    "\n",
    "import nasa_hls\n",
    "import sys\n",
    "import pandas as pd\n",
    "import os\n",
    "from osgeo import gdal\n",
    "import geopandas as gpd\n",
    "from fiona.crs import from_epsg\n",
    "gdal.UseExceptions()\n",
    "\n",
    "pd.set_option('display.max_columns', 500)\n",
    "pd.set_option('display.width', 1000)\n",
    "\n",
    "# and for later processing in the notebook"
   ]
  },
  {
   "cell_type": "markdown",
   "metadata": {},
   "source": [
    "- For testing purpose, try downloading the kml file:"
   ]
  },
  {
   "cell_type": "code",
   "execution_count": 1,
   "metadata": {
    "pycharm": {
     "is_executing": false,
     "name": "#%%\n"
    },
    "scrolled": false
   },
   "outputs": [
    {
     "ename": "NameError",
     "evalue": "name 'nasa_hls' is not defined",
     "output_type": "error",
     "traceback": [
      "\u001b[0;31m---------------------------------------------------------------------------\u001b[0m",
      "\u001b[0;31mNameError\u001b[0m                                 Traceback (most recent call last)",
      "\u001b[0;32m<ipython-input-1-03bdc4b3a406>\u001b[0m in \u001b[0;36m<module>\u001b[0;34m\u001b[0m\n\u001b[0;32m----> 1\u001b[0;31m \u001b[0mnasa_hls\u001b[0m\u001b[0;34m.\u001b[0m\u001b[0mdownload_kml\u001b[0m\u001b[0;34m(\u001b[0m\u001b[0;34m)\u001b[0m\u001b[0;34m\u001b[0m\u001b[0;34m\u001b[0m\u001b[0m\n\u001b[0m\u001b[1;32m      2\u001b[0m \u001b[0;34m\u001b[0m\u001b[0m\n",
      "\u001b[0;31mNameError\u001b[0m: name 'nasa_hls' is not defined"
     ]
    }
   ],
   "source": [
    "nasa_hls.download_kml()"
   ]
  },
  {
   "cell_type": "markdown",
   "metadata": {},
   "source": [
    "## <font color = \"red\">Make list with GeoDataFrames</font>\n",
    "\n",
    "- This will serve as a conformation for the user\n",
    "- It's a list of lists. Each inner list beeing the GeoDataFrames for the specified dates"
   ]
  },
  {
   "cell_type": "code",
   "execution_count": 5,
   "metadata": {
    "pycharm": {
     "is_executing": false
    }
   },
   "outputs": [],
   "source": [
    "# define user shape\n",
    "shape_path=\"/home/aleko-kon/Dokumente/nasa_hls/data/dummy_region.shp\""
   ]
  },
  {
   "cell_type": "code",
   "execution_count": 1,
   "metadata": {
    "pycharm": {
     "is_executing": false,
     "name": "#%%\n"
    },
    "scrolled": true
   },
   "outputs": [
    {
     "ename": "NameError",
     "evalue": "name 'nasa_hls' is not defined",
     "output_type": "error",
     "traceback": [
      "\u001b[0;31m---------------------------------------------------------------------------\u001b[0m",
      "\u001b[0;31mNameError\u001b[0m                                 Traceback (most recent call last)",
      "\u001b[0;32m<ipython-input-1-4cb9c6bd2748>\u001b[0m in \u001b[0;36m<module>\u001b[0;34m\u001b[0m\n\u001b[0;32m----> 1\u001b[0;31m ds = nasa_hls.make_tiles_dataset(shape=shape_path,\n\u001b[0m\u001b[1;32m      2\u001b[0m                                 \u001b[0mproducts\u001b[0m\u001b[0;34m=\u001b[0m\u001b[0;34m[\u001b[0m\u001b[0;34m\"L30\"\u001b[0m\u001b[0;34m]\u001b[0m\u001b[0;34m,\u001b[0m\u001b[0;34m\u001b[0m\u001b[0;34m\u001b[0m\u001b[0m\n\u001b[1;32m      3\u001b[0m                                 start_date=\"2018-12-25\")\n\u001b[1;32m      4\u001b[0m \u001b[0;34m\u001b[0m\u001b[0m\n\u001b[1;32m      5\u001b[0m \u001b[0;34m\u001b[0m\u001b[0m\n",
      "\u001b[0;31mNameError\u001b[0m: name 'nasa_hls' is not defined"
     ]
    }
   ],
   "source": [
    "ds = nasa_hls.make_tiles_dataset(shape=shape_path,\n",
    "                                products=[\"L30\"],\n",
    "                                start_date=\"2018-12-25\")\n"
   ]
  },
  {
   "cell_type": "code",
   "execution_count": 7,
   "metadata": {
    "pycharm": {
     "is_executing": false
    },
    "scrolled": true
   },
   "outputs": [
    {
     "name": "stdout",
     "output_type": "stream",
     "text": [
      "[    product   tile       date                                                url\n",
      "44      L30  34JDN 2018-12-25  https://hls.gsfc.nasa.gov/data/v1.4/L30/2018/3...\n",
      "71      L30  34JEN 2018-12-25  https://hls.gsfc.nasa.gov/data/v1.4/L30/2018/3...\n",
      "116     L30  34JDP 2018-12-25  https://hls.gsfc.nasa.gov/data/v1.4/L30/2018/3...\n",
      "143     L30  34JEP 2018-12-25  https://hls.gsfc.nasa.gov/data/v1.4/L30/2018/3...] \n",
      "\n",
      "\n",
      "The query starting at date '2018-12-25', resulted in 1 hls-prodcuts\n"
     ]
    }
   ],
   "source": [
    "# print the list of lists\n",
    "print(ds, \"\\n\\n\")\n",
    "print(\"The query starting at date '2018-12-25', resulted in {len} hls-prodcuts\".format(len = len(ds)))\n"
   ]
  },
  {
   "cell_type": "markdown",
   "metadata": {},
   "source": [
    "- As one can see in the list, there are 4 scenes for the 27th of december and two products for the 29th."
   ]
  },
  {
   "cell_type": "markdown",
   "metadata": {},
   "source": [
    "***\n",
    "## <font color = \"red\">Download Tiles</font>"
   ]
  },
  {
   "cell_type": "markdown",
   "metadata": {},
   "source": [
    "- Taking the list from above, the data sources can be downloaded via the function `download_tiles`. \n",
    "\n",
    "- This function calls `download_batch` and other methods internally in order to parse the right URLs for download.\n",
    "\n",
    "- The path for the parameter `dir` needs to be adapted, as this is user-specific."
   ]
  },
  {
   "cell_type": "code",
   "execution_count": 8,
   "metadata": {
    "pycharm": {
     "is_executing": false
    }
   },
   "outputs": [],
   "source": [
    "# where the user wants the \".hdf\"-files\n",
    "hdf_path = \"/home/aleko-kon/Dokumente/nasa_hls/data/hdf2\""
   ]
  },
  {
   "cell_type": "code",
   "execution_count": 9,
   "metadata": {
    "pycharm": {
     "is_executing": false,
     "name": "#%%\n"
    }
   },
   "outputs": [
    {
     "name": "stderr",
     "output_type": "stream",
     "text": [
      "100%|██████████| 4/4 [04:36<00:00, 69.11s/it]\n"
     ]
    }
   ],
   "source": [
    "nasa_hls.download_tiles(dstdir=hdf_path, dataframes=ds)"
   ]
  },
  {
   "cell_type": "code",
   "execution_count": 10,
   "metadata": {
    "pycharm": {
     "is_executing": false
    }
   },
   "outputs": [
    {
     "name": "stdout",
     "output_type": "stream",
     "text": [
      "The first downloaded 'hdf'-file is 244.24 MB in size on the disk\n"
     ]
    }
   ],
   "source": [
    "# the size of one \".hdf\"-file\n",
    "s = os.path.getsize(os.path.join(hdf_path , \"HLS.S30.T34JDN.2018361.v1.4.hdf\"))\n",
    "print(\"The first downloaded 'hdf'-file is {0:.2f} MB in size on the disk\".format(s/1e6))"
   ]
  },
  {
   "cell_type": "markdown",
   "metadata": {},
   "source": [
    "***\n",
    "## <font color = \"red\">Mosaicing tiles</font>\n",
    "- Now we'll create a mosaic for each day. Internally there are two steps. First creating a mosaic for each band for each day. And afterwards creating a mosaic for each day of all the single bands.\n",
    "- This is done by the function `make_mosaic`."
   ]
  },
  {
   "cell_type": "code",
   "execution_count": 1,
   "metadata": {
    "pycharm": {
     "is_executing": false,
     "name": "#%%\n"
    }
   },
   "outputs": [
    {
     "name": "stdout",
     "output_type": "stream",
     "text": [
      "/home/aleko-kon/Dokumente/nasa_hls/data/out/\n",
      "/home/aleko-kon/Dokumente/nasa_hls/data/mixed/\n",
      "/home/aleko-kon/.nasa_hls/.auxdata/\n"
     ]
    }
   ],
   "source": [
    "# for simplicity make input and output file directories the same\n",
    "# tiffs will end up in the same directory\n",
    "# note the \"/\" at the end\n",
    "\n",
    "%matplotlib inline\n",
    "\n",
    "import nasa_hls\n",
    "import sys\n",
    "import pandas as pd\n",
    "import os\n",
    "from osgeo import gdal\n",
    "import geopandas as gpd\n",
    "from fiona.crs import from_epsg\n",
    "gdal.UseExceptions()\n",
    "from nasa_hls.download_tiles import path_auxil\n",
    "import shutil\n",
    "\n",
    "pd.set_option('display.max_columns', 500)\n",
    "pd.set_option('display.width', 1000)\n",
    "\n",
    "\n",
    "final_dir = \"/home/aleko-kon/Dokumente/nasa_hls/data/out/\"\n",
    "shape_path=\"/home/aleko-kon/Dokumente/nasa_hls/data/dummy_region.shp\"\n",
    "hdf_path = \"/home/aleko-kon/Dokumente/nasa_hls/data/mixed/\"\n",
    "\n",
    "print(final_dir)\n",
    "print(hdf_path)\n",
    "print(path_auxil)\n"
   ]
  },
  {
   "cell_type": "code",
   "execution_count": 3,
   "metadata": {
    "pycharm": {
     "is_executing": false
    }
   },
   "outputs": [
    {
     "name": "stdout",
     "output_type": "stream",
     "text": [
      "Landsat\n",
      "Final VRT: \n",
      " /home/aleko-kon/.nasa_hls/.auxdata/mosaic/days/359final.vrt\n",
      "Outfile: \n",
      " /home/aleko-kon/Dokumente/nasa_hls/data/out/359.tif \n",
      "\n"
     ]
    }
   ],
   "source": [
    "nasa_hls.make_mosaic(srcdir=hdf_path, \n",
    "                     dstdir=final_dir, \n",
    "                     product=\"L30\")"
   ]
  },
  {
   "cell_type": "markdown",
   "metadata": {},
   "source": [
    "***\n",
    "## <font color = \"red\">Print Results</font>"
   ]
  },
  {
   "cell_type": "code",
   "execution_count": 10,
   "metadata": {
    "pycharm": {
     "is_executing": false
    }
   },
   "outputs": [],
   "source": [
    "import rasterio\n",
    "import matplotlib.pyplot as plt\n",
    "import matplotlib as mpl\n",
    "import fiona\n",
    "import numpy as np\n",
    "import rasterio as rio\n",
    "from rasterio.plot import show\n",
    "from rasterio.plot import show_hist\n",
    "from descartes import PolygonPatch"
   ]
  },
  {
   "cell_type": "code",
   "execution_count": null,
   "metadata": {
    "pycharm": {
     "is_executing": false
    }
   },
   "outputs": [],
   "source": [
    "#filepath of one of the rasters (hdf-scenes)\n",
    "fp = \"/home/robin/python_projects/data/nasa_hls/hdf_tiles/361.tiff\""
   ]
  },
  {
   "cell_type": "code",
   "execution_count": null,
   "metadata": {
    "pycharm": {
     "is_executing": false
    },
    "scrolled": true
   },
   "outputs": [],
   "source": [
    "rio_raster = rio.open(fp) #produces rasterio.DatasetReader\n",
    "print(type(rio_raster) )\n",
    "print(rio_raster.bounds)"
   ]
  },
  {
   "cell_type": "code",
   "execution_count": null,
   "metadata": {
    "pycharm": {
     "is_executing": false
    }
   },
   "outputs": [],
   "source": [
    "with rio.open(fp) as src:\n",
    "    data = src.read() # produces numpy nd array\n",
    "type(data)"
   ]
  },
  {
   "cell_type": "code",
   "execution_count": null,
   "metadata": {
    "pycharm": {
     "is_executing": false
    }
   },
   "outputs": [],
   "source": [
    "# Confirm that there are 12 bands for Sentinel Scenes\n",
    "data.shape"
   ]
  },
  {
   "cell_type": "code",
   "execution_count": null,
   "metadata": {
    "pycharm": {
     "is_executing": false
    },
    "scrolled": false
   },
   "outputs": [],
   "source": [
    "# show first band cropped to our shapefile\n",
    "show((data[1,:,:]))"
   ]
  },
  {
   "cell_type": "code",
   "execution_count": null,
   "metadata": {
    "pycharm": {
     "is_executing": false
    }
   },
   "outputs": [],
   "source": [
    "# get the entire (uncropped) raster \n",
    "fp_vrt = \"/home/robin/.nasa_hls/.auxdata/mosaic/days/361final.vrt\"\n",
    "raster_vrt = rio.open(fp_vrt)\n",
    "\n",
    "#and plot both together\n",
    "fig, ax = plt.subplots()\n",
    "show(raster_vrt, ax = ax)\n",
    "show(rio_raster, cmap = \"pink\", ax = ax)\n"
   ]
  },
  {
   "cell_type": "code",
   "execution_count": null,
   "metadata": {
    "pycharm": {
     "is_executing": false
    }
   },
   "outputs": [],
   "source": [
    "# now add the shape\n",
    "shape = gpd.read_file(shape_path)\n",
    "print(shape.crs)\n",
    "shape = shape.to_crs(\"EPSG:32634\")\n",
    "print(shape.crs)"
   ]
  },
  {
   "cell_type": "code",
   "execution_count": null,
   "metadata": {
    "pycharm": {
     "is_executing": false
    },
    "scrolled": true
   },
   "outputs": [],
   "source": [
    "#and plot both together\n",
    "fig, ax = plt.subplots()\n",
    "shape.plot(ax = ax, alpha=.5)\n",
    "show(raster_vrt, ax = ax)\n",
    "show(rio_raster, cmap = \"pink\", ax = ax)\n",
    "ax.set_title(\"User-shape, full hls-scene and cropped scene\")\n"
   ]
  },
  {
   "cell_type": "markdown",
   "metadata": {},
   "source": [
    "### get some metadata"
   ]
  },
  {
   "cell_type": "code",
   "execution_count": null,
   "metadata": {
    "pycharm": {
     "is_executing": false
    }
   },
   "outputs": [],
   "source": [
    "# get the dimension of the cropped raster by reading the first band\n",
    "first_band_array = rio_raster.read(1)\n",
    "first_band_array_uncropped = raster_vrt.read(1)\n",
    "print(\"the cropped rasters dimension is \\n\", first_band_array.shape)\n",
    "print(\"\")\n",
    "print(\"the uncropped rasters dimension is \\n\", first_band_array_uncropped.shape)"
   ]
  },
  {
   "cell_type": "code",
   "execution_count": null,
   "metadata": {
    "pycharm": {
     "is_executing": false
    }
   },
   "outputs": [],
   "source": [
    "show_hist((rio_raster, 1), lw = 0.0)"
   ]
  },
  {
   "cell_type": "code",
   "execution_count": null,
   "metadata": {
    "pycharm": {
     "is_executing": false
    },
    "scrolled": true
   },
   "outputs": [],
   "source": [
    "# when plotted as numpy array_first_band you can see the nodata-values of -1000\n",
    "plt.hist(first_band_array, bins = 10)\n",
    "plt.show()"
   ]
  },
  {
   "cell_type": "code",
   "execution_count": null,
   "metadata": {
    "pycharm": {
     "is_executing": false
    }
   },
   "outputs": [],
   "source": [
    "#how many values with -1000\n",
    "sum_neg = (first_band_array == -1000).sum()\n",
    "sum_neg "
   ]
  },
  {
   "cell_type": "code",
   "execution_count": null,
   "metadata": {
    "pycharm": {
     "is_executing": false
    },
    "scrolled": true
   },
   "outputs": [],
   "source": [
    "# what are  datatype and the nodata-values in the final tiff\n",
    "for i, dtype, nodataval in zip(rio_raster.indexes, rio_raster.dtypes, rio_raster.nodatavals):\n",
    "    print(i, dtype, nodataval)"
   ]
  },
  {
   "cell_type": "code",
   "execution_count": null,
   "metadata": {
    "pycharm": {
     "is_executing": false
    }
   },
   "outputs": [],
   "source": [
    "# what are  datatype and the nodata-values in the vrt, that makes the final tiff above?\n",
    "for i, dtype, nodataval in zip(raster_vrt.indexes, raster_vrt.dtypes, raster_vrt.nodatavals):\n",
    "    print(i, dtype, nodataval)"
   ]
  },
  {
   "cell_type": "markdown",
   "metadata": {},
   "source": [
    "- As one can see there is one band that is just of datatype `uint8` instad of being `int16`. This is the QA-Band with a nodata-value of 255\n"
   ]
  },
  {
   "cell_type": "code",
   "execution_count": null,
   "metadata": {
    "pycharm": {
     "is_executing": false
    }
   },
   "outputs": [],
   "source": [
    "fig, (axr, axg, axb) = plt.subplots(1,3, figsize=(21,7))\n",
    "show((rio_raster,4), ax = axr, cmap = \"Reds\", title = \"red channel\")\n",
    "show((rio_raster,3), ax = axg, cmap = \"Greens\", title = \"green channel\")\n",
    "show((rio_raster,2), ax = axb, cmap = \"Blues\", title = \"blue channel\" )\n"
   ]
  },
  {
   "cell_type": "code",
   "execution_count": null,
   "metadata": {
    "pycharm": {
     "is_executing": false
    }
   },
   "outputs": [],
   "source": [
    "red = rio_raster.read(4)\n",
    "green = rio_raster.read(3)\n",
    "blue = rio_raster.read(2)"
   ]
  },
  {
   "cell_type": "code",
   "execution_count": null,
   "metadata": {
    "pycharm": {
     "is_executing": false
    }
   },
   "outputs": [],
   "source": [
    "# convert -1000 to NAN\n",
    "first_band_array = first_band_array.astype(\"float\")\n",
    "first_band_array[first_band_array == -1000] = np.NAN"
   ]
  },
  {
   "cell_type": "code",
   "execution_count": null,
   "metadata": {
    "pycharm": {
     "is_executing": false
    }
   },
   "outputs": [],
   "source": [
    "def normalize(array):\n",
    "    \"\"\"Normalizes numpy arrays into scale 0.0 - 1.0\"\"\"\n",
    "    array_min, array_max = array.min(), array.max()\n",
    "    return ((array - array_min)/(array_max - array_min))\n",
    "\n",
    "redn = normalize(red)\n",
    "greenn = normalize(green)\n",
    "bluen = normalize(blue)\n",
    "\n",
    "\n",
    "print(\"Normalized bands\")\n",
    "print(redn.min(), '-', redn.max(), 'mean:', redn.mean())\n",
    "print(greenn.min(), '-', greenn.max(), 'mean:', greenn.mean())\n",
    "print(bluen.min(), '-', bluen.max(), 'mean:', bluen.mean())\n"
   ]
  },
  {
   "cell_type": "code",
   "execution_count": null,
   "metadata": {
    "pycharm": {
     "is_executing": false
    },
    "scrolled": false
   },
   "outputs": [],
   "source": [
    "# stack bands together\n",
    "rgb = np.dstack((redn, greenn, bluen))\n",
    "plt.imshow(rgb)"
   ]
  },
  {
   "cell_type": "code",
   "execution_count": null,
   "metadata": {
    "pycharm": {
     "is_executing": false
    }
   },
   "outputs": [],
   "source": [
    "import folium\n",
    "from folium import plugins\n"
   ]
  },
  {
   "cell_type": "code",
   "execution_count": null,
   "metadata": {
    "pycharm": {
     "is_executing": false
    }
   },
   "outputs": [],
   "source": [
    "from rasterio.warp import calculate_default_transform, reproject, Resampling"
   ]
  },
  {
   "cell_type": "code",
   "execution_count": null,
   "metadata": {
    "pycharm": {
     "is_executing": false
    }
   },
   "outputs": [],
   "source": [
    "# Create variables for destination coordinate system and the name of the projected raster\n",
    "dst_crs = 'EPSG:4326' \n",
    "out_path = os.path.join(\"/home/robin/python_projects/data/nasa_hls/hdf_tiles/361reproj.tiff\")"
   ]
  },
  {
   "cell_type": "code",
   "execution_count": null,
   "metadata": {
    "pycharm": {
     "is_executing": false
    }
   },
   "outputs": [],
   "source": [
    "with rio.open(fp) as src:\n",
    "    transform, width, height = calculate_default_transform(\n",
    "        src.crs, dst_crs, src.width, src.height, *src.bounds)\n",
    "    kwargs = src.meta.copy()\n",
    "    kwargs.update({\n",
    "        'crs': dst_crs,\n",
    "        'transform': transform,\n",
    "        'width': width,\n",
    "        'height': height\n",
    "    })\n",
    "    \n",
    "    with rio.open(out_path, 'w', **kwargs) as dst:\n",
    "        for i in range(1, src.count + 1):\n",
    "            reproject(\n",
    "            source=rio.band(src, i),\n",
    "            destination=rio.band(dst, i),\n",
    "            src_transform=src.transform,\n",
    "            src_crs=src.crs,\n",
    "            dst_transform=transform,\n",
    "            dst_crs=dst_crs,\n",
    "            resampling=Resampling.nearest)\n",
    "            "
   ]
  },
  {
   "cell_type": "code",
   "execution_count": null,
   "metadata": {
    "pycharm": {
     "is_executing": false
    }
   },
   "outputs": [],
   "source": [
    "# Use rasterio to import the reprojected data as img\n",
    "with rio.open(out_path) as src:\n",
    "    boundary = src.bounds\n",
    "    img = src.read()\n",
    "    nodata = src.nodata"
   ]
  },
  {
   "cell_type": "code",
   "execution_count": null,
   "metadata": {
    "pycharm": {
     "is_executing": false
    }
   },
   "outputs": [],
   "source": [
    "boundary\n"
   ]
  },
  {
   "cell_type": "code",
   "execution_count": null,
   "metadata": {
    "pycharm": {
     "is_executing": false
    }
   },
   "outputs": [],
   "source": [
    "map_= folium.Map(location=[20, -29],\n",
    "                  tiles='Stamen Terrain', zoom_start = 8)"
   ]
  },
  {
   "cell_type": "code",
   "execution_count": null,
   "metadata": {
    "pycharm": {
     "is_executing": false
    }
   },
   "outputs": [],
   "source": [
    "img = folium.raster_layers.ImageOverlay(\n",
    "        name='Mercator projection SW',\n",
    "        image=img[0],\n",
    "        bounds=[[19.96, -29.91], [22.13, -28.02]],\n",
    "        opacity=0.6,\n",
    "        interactive=True,\n",
    "        zindex=1,\n",
    "    )"
   ]
  },
  {
   "cell_type": "code",
   "execution_count": null,
   "metadata": {
    "pycharm": {
     "is_executing": false
    },
    "scrolled": true
   },
   "outputs": [],
   "source": [
    "img.add_to(map_)"
   ]
  },
  {
   "cell_type": "code",
   "execution_count": null,
   "metadata": {
    "pycharm": {
     "is_executing": false
    }
   },
   "outputs": [],
   "source": [
    "map_"
   ]
  },
  {
   "cell_type": "markdown",
   "metadata": {},
   "source": [
    "## Calculate Indexes"
   ]
  }
 ],
 "metadata": {
  "kernelspec": {
   "display_name": "Python 3",
   "language": "python",
   "name": "python3"
  },
  "language_info": {
   "codemirror_mode": {
    "name": "ipython",
    "version": 3
   },
   "file_extension": ".py",
   "mimetype": "text/x-python",
   "name": "python",
   "nbconvert_exporter": "python",
   "pygments_lexer": "ipython3",
   "version": "3.7.4"
  },
  "pycharm": {
   "stem_cell": {
    "cell_type": "raw",
    "metadata": {
     "collapsed": false
    },
    "source": []
   }
  }
 },
 "nbformat": 4,
 "nbformat_minor": 1
}
