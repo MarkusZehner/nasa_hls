{
 "cells": [
  {
   "cell_type": "markdown",
   "metadata": {},
   "source": [
    "# API development for download of Sentinel-2 and Landsat-8 data\n",
    "## User defined mosaicking on harmonised products\n",
    "\n",
    "Two different multi-spectral optical satellite constellations deliver open data source for earth observation.\n",
    "The Sentinel-2 mission contains two identical satellites with suffix A and B, with opposite direction of orbits flying in a \n",
    "repeat cycle of 10 days each, 5 days for both orbits, respectively. Launch: 2015 (A), 2017 (B)[ESA].\n",
    "<br>\n",
    "As the second optical satellite Landsat 8 Operational Land Imager (OLI),...\n",
    "with a repeat cycle of 16 days.  Launch: 2013, come with [res. etc.]... 2013\n",
    "<br>\n",
    "\n",
    "\n",
    "The scope of this extension to the python-based nasa_hls[email/github] aims to add the following functionality:\n",
    "1. \n"
   ]
  },
  {
   "cell_type": "markdown",
   "metadata": {},
   "source": [
    "First, the module nasa_hls is loaded."
   ]
  },
  {
   "cell_type": "code",
   "execution_count": null,
   "metadata": {
    "pycharm": {
     "is_executing": false,
     "name": "#%%\n"
    }
   },
   "outputs": [],
   "source": [
    "%autoreload 2\n",
    "%matplotlib inline\n",
    "\n",
    "import nasa_hls\n",
    "import sys\n",
    "\n",
    "# and for later processing in the notebook"
   ]
  },
  {
   "cell_type": "markdown",
   "metadata": {},
   "source": [
    "For testing purpose, try downloading the kml file:"
   ]
  },
  {
   "cell_type": "code",
   "execution_count": null,
   "metadata": {
    "scrolled": true
   },
   "outputs": [],
   "source": [
    "nasa_hls.download_kml()"
   ]
  },
  {
   "cell_type": "markdown",
   "metadata": {},
   "source": [
    "make tiles from the user given:\n",
    "1. spatial geometry\n",
    "2. date or time span\n",
    "3. product type (S30 or L30, or both)\n",
    "\n",
    "The input features should come in the WGS84 coordinate system.\n",
    "Dates have to be passes as yyyy-mm-dd strings"
   ]
  },
  {
   "cell_type": "code",
   "execution_count": 53,
   "metadata": {},
   "outputs": [
    {
     "name": "stdout",
     "output_type": "stream",
     "text": [
      "valid shape, process continues\n",
      "\n",
      "single date: 01-11-2018\n",
      " \n",
      "UTM tiles already successfully downloaded to:\n",
      " /home/aleko-kon/.nasa_hls/.auxdata/utm.kml \n",
      "\n"
     ]
    },
    {
     "name": "stderr",
     "output_type": "stream",
     "text": [
      "\n",
      "  0%|          | 0/5 [00:00<?, ?it/s]\u001b[A"
     ]
    },
    {
     "name": "stdout",
     "output_type": "stream",
     "text": [
      "\n",
      "getting available datasets . . .\n"
     ]
    },
    {
     "name": "stderr",
     "output_type": "stream",
     "text": [
      "\n",
      " 20%|██        | 1/5 [00:01<00:07,  1.86s/it]\u001b[A\n",
      " 40%|████      | 2/5 [00:03<00:05,  1.74s/it]\u001b[A\n",
      " 60%|██████    | 3/5 [00:05<00:03,  1.78s/it]\u001b[A\n",
      " 80%|████████  | 4/5 [00:07<00:01,  1.93s/it]\u001b[A\n",
      "100%|██████████| 5/5 [00:08<00:00,  1.77s/it]\u001b[A\n"
     ]
    },
    {
     "ename": "KeyError",
     "evalue": "datetime.date(2018, 1, 11)",
     "output_type": "error",
     "traceback": [
      "\u001b[0;31m---------------------------------------------------------------------------\u001b[0m",
      "\u001b[0;31mKeyError\u001b[0m                                  Traceback (most recent call last)",
      "\u001b[0;32m<ipython-input-53-9c5638d7387f>\u001b[0m in \u001b[0;36m<module>\u001b[0;34m\u001b[0m\n\u001b[1;32m      1\u001b[0m ds = nasa_hls.make_tiles_dataset(shape=\"/home/aleko-kon/Dokumente/nasa_hls/data/amazon.shp\",\n\u001b[1;32m      2\u001b[0m                                 \u001b[0mproducts\u001b[0m\u001b[0;34m=\u001b[0m\u001b[0;34m[\u001b[0m\u001b[0;34m\"S30\"\u001b[0m\u001b[0;34m]\u001b[0m\u001b[0;34m,\u001b[0m\u001b[0;34m\u001b[0m\u001b[0;34m\u001b[0m\u001b[0m\n\u001b[0;32m----> 3\u001b[0;31m                                 date=\"01-11-2018\")\n\u001b[0m\u001b[1;32m      4\u001b[0m \u001b[0;34m\u001b[0m\u001b[0m\n",
      "\u001b[0;32m~/projects/nasa_hls/nasa_hls/download_tiles.py\u001b[0m in \u001b[0;36mmake_tiles_dataset\u001b[0;34m(shape, products, date, year, start_date, end_date)\u001b[0m\n\u001b[1;32m    154\u001b[0m     \u001b[0;31m# # Ein Tag\u001b[0m\u001b[0;34m\u001b[0m\u001b[0;34m\u001b[0m\u001b[0;34m\u001b[0m\u001b[0m\n\u001b[1;32m    155\u001b[0m     \u001b[0;32mif\u001b[0m \u001b[0mdate\u001b[0m \u001b[0;32mis\u001b[0m \u001b[0;32mnot\u001b[0m \u001b[0;32mNone\u001b[0m\u001b[0;34m:\u001b[0m\u001b[0;34m\u001b[0m\u001b[0;34m\u001b[0m\u001b[0m\n\u001b[0;32m--> 156\u001b[0;31m         \u001b[0mdf_single_date\u001b[0m \u001b[0;34m=\u001b[0m \u001b[0mdictionary\u001b[0m\u001b[0;34m[\u001b[0m\u001b[0mdate_timestamp\u001b[0m\u001b[0;34m]\u001b[0m\u001b[0;34m\u001b[0m\u001b[0;34m\u001b[0m\u001b[0m\n\u001b[0m\u001b[1;32m    157\u001b[0m         \u001b[0mdataframes\u001b[0m\u001b[0;34m.\u001b[0m\u001b[0mappend\u001b[0m\u001b[0;34m(\u001b[0m\u001b[0mdf_single_date\u001b[0m\u001b[0;34m)\u001b[0m\u001b[0;34m\u001b[0m\u001b[0;34m\u001b[0m\u001b[0m\n\u001b[1;32m    158\u001b[0m \u001b[0;34m\u001b[0m\u001b[0m\n",
      "\u001b[0;31mKeyError\u001b[0m: datetime.date(2018, 1, 11)"
     ]
    }
   ],
   "source": [
    "ds = nasa_hls.make_tiles_dataset(shape=\"/home/aleko-kon/Dokumente/nasa_hls/data/amazon.shp\",\n",
    "                                products=[\"S30\"],\n",
    "                                date=\"01-11-2018\")\n",
    "\n"
   ]
  },
  {
   "cell_type": "code",
   "execution_count": 47,
   "metadata": {},
   "outputs": [],
   "source": [
    "import geopandas as gp\n",
    "a = gp.read_file(\"/home/aleko-kon/Dokumente/nasa_hls/data/amazon.shp\")"
   ]
  },
  {
   "cell_type": "code",
   "execution_count": 48,
   "metadata": {},
   "outputs": [
    {
     "ename": "NameError",
     "evalue": "name 'ds' is not defined",
     "output_type": "error",
     "traceback": [
      "\u001b[0;31m---------------------------------------------------------------------------\u001b[0m",
      "\u001b[0;31mNameError\u001b[0m                                 Traceback (most recent call last)",
      "\u001b[0;32m<ipython-input-48-6f4a4004dcca>\u001b[0m in \u001b[0;36m<module>\u001b[0;34m\u001b[0m\n\u001b[0;32m----> 1\u001b[0;31m \u001b[0mds\u001b[0m\u001b[0;34m\u001b[0m\u001b[0;34m\u001b[0m\u001b[0m\n\u001b[0m",
      "\u001b[0;31mNameError\u001b[0m: name 'ds' is not defined"
     ]
    }
   ],
   "source": [
    "ds"
   ]
  }
 ],
 "metadata": {
  "kernelspec": {
   "display_name": "Python 3",
   "language": "python",
   "name": "python3"
  },
  "language_info": {
   "codemirror_mode": {
    "name": "ipython",
    "version": 3
   },
   "file_extension": ".py",
   "mimetype": "text/x-python",
   "name": "python",
   "nbconvert_exporter": "python",
   "pygments_lexer": "ipython3",
   "version": "3.7.4"
  },
  "pycharm": {
   "stem_cell": {
    "cell_type": "raw",
    "metadata": {
     "collapsed": false
    },
    "source": []
   }
  }
 },
 "nbformat": 4,
 "nbformat_minor": 1
}
