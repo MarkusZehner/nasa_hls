{
 "cells": [
  {
   "cell_type": "markdown",
   "metadata": {},
   "source": [
    "# API development for download of Sentinel-2 and Landsat-8 data\n",
    "### User defined mosaicing of harmonised products\n",
    "_Robin Kohrs & Konstantin Schellenberg, February 2020, GEO 419_  \n",
    "_Supervisor: John Truckenbrodt¹, Martin Habermeyer²_ <br>\n",
    "<sub><sub>\n",
    "¹ Friedrich-Schiller-University Jena, chair of remote sensing <br>\n",
    "² Deutsches Luft- und Raumfahrtszentrum, earth observation center\n",
    "</sub></sub>\n",
    "\n",
    "## Tutorial\n",
    "This is the extention for nasa_hls. We developed following new functions:\n",
    "\n",
    "In order to make the program be more flexible, the goal of this extension is to\n",
    "1. Download tiles by setting spatial (user defined verctor geometry) and temporal inqueries to the HLS server,\n",
    "2. Mosaic the HDF4 formatted product per band and acquisition date.\n",
    "\n",
    "As part of the module report will want to add the following post procession tasks: \n",
    "3. Calculate spectral indexes from the downloaded products.\n",
    "4. Plot the results inline with `ipyleafet` and `folium` on a Open Street Map WMS service.\n",
    "\n",
    "Tasks 1 and 2 are meant to work in accordance with the `nasa_hls` package and aims to lead to a pull request to the repository; 3 and 4 shall give an overview of to use the new utilities and the HLS product.\n",
    "\n",
    "User guide to the HLS product:\n",
    "https://hls.gsfc.nasa.gov/wp-content/uploads/2019/01/HLS.v1.4.UserGuide_draft_ver3.1.pdf"
   ]
  },
  {
   "cell_type": "markdown",
   "metadata": {},
   "source": [
    "## Download HSL files with user input\n",
    "First, the module nasa_hls is loaded."
   ]
  },
  {
   "cell_type": "code",
   "execution_count": 2,
   "metadata": {
    "pycharm": {
     "is_executing": false,
     "name": "#%%\n"
    }
   },
   "outputs": [],
   "source": [
    "%matplotlib inline\n",
    "\n",
    "import nasa_hls\n",
    "import sys\n",
    "import pandas as pd\n",
    "import os\n",
    "\n",
    "pd.set_option('display.max_columns', 500)\n",
    "pd.set_option('display.width', 1000)\n",
    "\n",
    "# and for later processing in the notebook"
   ]
  },
  {
   "cell_type": "markdown",
   "metadata": {},
   "source": [
    "For testing purpose, try downloading the kml file:"
   ]
  },
  {
   "cell_type": "code",
   "execution_count": 3,
   "metadata": {
    "pycharm": {
     "is_executing": true,
     "name": "#%%\n"
    }
   },
   "outputs": [
    {
     "name": "stdout",
     "output_type": "stream",
     "text": [
      "UTM tiles already successfully downloaded to:\n",
      " /home/aleko-kon/.nasa_hls/.auxdata/utm.kml \n",
      "\n"
     ]
    },
    {
     "data": {
      "text/plain": [
       "'/home/aleko-kon/.nasa_hls/.auxdata/utm.kml'"
      ]
     },
     "execution_count": 3,
     "metadata": {},
     "output_type": "execute_result"
    }
   ],
   "source": [
    "nasa_hls.download_kml()"
   ]
  },
  {
   "cell_type": "markdown",
   "metadata": {},
   "source": [
    "make tiles from the user given:\n",
    "1. spatial geometry\n",
    "2. date or time span\n",
    "3. product type (S30 or L30, or both)\n",
    "\n",
    "The input features should come in the WGS84 coordinate system.\n",
    "Dates have to be passes as yyyy-mm-dd strings.\n",
    "(when REQUEST = GetFeature) The time or time range for which to return the results, in ISO8601 format (year-month-date, for example: 2016-01-01). When a single time is specified the service will return data until the specified time. If a time range is specified the result is based on all scenes between the specified dates conforming to the cloud coverage criteria and stacked based on priority setting - e.g. most recent on top. The time range is written as two time values separated by a slash, followed by a second slash and a period parameter (which must be P1D). Optional, default: none (the last valid image is returned). Examples: \"TIME=2016-01-01\", \"TIME=2016-01-01/2016-02-01/P1D\".\n",
    "https://www.sentinel-hub.com/develop/documentation/api/ogc_api/wfs-request"
   ]
  },
  {
   "cell_type": "code",
   "execution_count": 6,
   "metadata": {
    "pycharm": {
     "is_executing": true,
     "name": "#%%\n"
    },
    "scrolled": true
   },
   "outputs": [
    {
     "name": "stdout",
     "output_type": "stream",
     "text": [
      "starting date: 2018-12-25\n",
      " \n",
      "UTM tiles already successfully downloaded to:\n",
      " /home/aleko-kon/.nasa_hls/.auxdata/utm.kml \n",
      "\n"
     ]
    },
    {
     "name": "stderr",
     "output_type": "stream",
     "text": [
      "\r",
      "  0%|          | 0/10 [00:00<?, ?it/s]"
     ]
    },
    {
     "name": "stdout",
     "output_type": "stream",
     "text": [
      "\n",
      "getting available datasets . . .\n"
     ]
    },
    {
     "name": "stderr",
     "output_type": "stream",
     "text": [
      "100%|██████████| 10/10 [00:13<00:00,  1.34s/it]\n"
     ]
    },
    {
     "data": {
      "text/plain": [
       "[    product   tile       date                                                url\n",
       " 130     S30  19LDJ 2018-12-26  https://hls.gsfc.nasa.gov/data/v1.4/S30/2018/1...\n",
       " 324     S30  19LEK 2018-12-26  https://hls.gsfc.nasa.gov/data/v1.4/S30/2018/1...\n",
       " 456     S30  19LDH 2018-12-26  https://hls.gsfc.nasa.gov/data/v1.4/S30/2018/1...,\n",
       "     product   tile       date                                                url\n",
       " 565     L30  19LDJ 2018-12-27  https://hls.gsfc.nasa.gov/data/v1.4/L30/2018/1...\n",
       " 592     L30  19LEJ 2018-12-27  https://hls.gsfc.nasa.gov/data/v1.4/L30/2018/1...\n",
       " 619     L30  19LEK 2018-12-27  https://hls.gsfc.nasa.gov/data/v1.4/L30/2018/1...\n",
       " 663     L30  19LDH 2018-12-27  https://hls.gsfc.nasa.gov/data/v1.4/L30/2018/1...,\n",
       "     product   tile       date                                                url\n",
       " 131     S30  19LDJ 2018-12-28  https://hls.gsfc.nasa.gov/data/v1.4/S30/2018/1...\n",
       " 196     S30  19LEJ 2018-12-28  https://hls.gsfc.nasa.gov/data/v1.4/S30/2018/1...\n",
       " 325     S30  19LEK 2018-12-28  https://hls.gsfc.nasa.gov/data/v1.4/S30/2018/1...\n",
       " 457     S30  19LDH 2018-12-28  https://hls.gsfc.nasa.gov/data/v1.4/S30/2018/1...\n",
       " 521     S30  19LEH 2018-12-28  https://hls.gsfc.nasa.gov/data/v1.4/S30/2018/1...,\n",
       "     product   tile       date                                                url\n",
       " 132     S30  19LDJ 2018-12-31  https://hls.gsfc.nasa.gov/data/v1.4/S30/2018/1...\n",
       " 326     S30  19LEK 2018-12-31  https://hls.gsfc.nasa.gov/data/v1.4/S30/2018/1...\n",
       " 458     S30  19LDH 2018-12-31  https://hls.gsfc.nasa.gov/data/v1.4/S30/2018/1...]"
      ]
     },
     "execution_count": 6,
     "metadata": {},
     "output_type": "execute_result"
    }
   ],
   "source": [
    "ds = nasa_hls.make_tiles_dataset(shape=\"/home/aleko-kon/Dokumente/nasa_hls/data/amazon.shp\",\n",
    "                                products=[\"S30\", \"L30\"],\n",
    "                                start_date=\"2018-12-25\")\n",
    "ds"
   ]
  },
  {
   "cell_type": "markdown",
   "metadata": {},
   "source": [
    "Taking this list, the data sources can be downloaded via `download_tiles`. <br> This function call `download_batch` and other methods internally in order to parse the right URLs for download."
   ]
  },
  {
   "cell_type": "code",
   "execution_count": 7,
   "metadata": {
    "pycharm": {
     "is_executing": true,
     "name": "#%%\n"
    }
   },
   "outputs": [
    {
     "name": "stderr",
     "output_type": "stream",
     "text": [
      "100%|██████████| 3/3 [03:07<00:00, 62.41s/it]\n",
      "100%|██████████| 4/4 [03:02<00:00, 45.62s/it]\n",
      "100%|██████████| 5/5 [12:40<00:00, 152.11s/it]\n",
      "100%|██████████| 3/3 [04:26<00:00, 88.78s/it] \n"
     ]
    }
   ],
   "source": [
    "nasa_hls.download_tiles(dstdir=os.path.join(os.path.expanduser('~'), 'Dokumente', 'nasa_hls', 'data', 'hdf'),\n",
    "                        datasets=ds)"
   ]
  },
  {
   "cell_type": "markdown",
   "metadata": {},
   "source": [
    "***\n",
    "## Mosaicing tiles\n",
    "To simplify the handling of the downloaded files ... we mosaic the data according to the \n",
    "`make_mosaic.py`"
   ]
  },
  {
   "cell_type": "code",
   "execution_count": null,
   "metadata": {
    "pycharm": {
     "is_executing": true,
     "name": "#%%\n"
    }
   },
   "outputs": [],
   "source": [
    "path_in = os.path.join(os.path.expanduser('~'), 'Dokumente', 'nasa_hls', 'data', 'hdf' + os.sep)\n",
    "path_out =  os.path.join(os.path.expanduser('~'), 'Dokumente', 'nasa_hls', 'data', 'tifs' + os.sep)"
   ]
  },
  {
   "cell_type": "code",
   "execution_count": null,
   "metadata": {
    "pycharm": {
     "is_executing": true,
     "name": "#%%\n"
    }
   },
   "outputs": [],
   "source": []
  },
  {
   "cell_type": "code",
   "execution_count": null,
   "metadata": {
    "pycharm": {
     "is_executing": true,
     "name": "#%%\n"
    }
   },
   "outputs": [],
   "source": [
    "make_mosaic_tif()"
   ]
  },
  {
   "cell_type": "markdown",
   "metadata": {},
   "source": [
    "The output extent can now be clipped to the actual outline of the input geometry."
   ]
  },
  {
   "cell_type": "markdown",
   "metadata": {},
   "source": [
    "## Calculate Indexes"
   ]
  }
 ],
 "metadata": {
  "kernelspec": {
   "display_name": "Python 3",
   "language": "python",
   "name": "python3"
  },
  "language_info": {
   "codemirror_mode": {
    "name": "ipython",
    "version": 3
   },
   "file_extension": ".py",
   "mimetype": "text/x-python",
   "name": "python",
   "nbconvert_exporter": "python",
   "pygments_lexer": "ipython3",
   "version": "3.7.4"
  },
  "pycharm": {
   "stem_cell": {
    "cell_type": "raw",
    "source": [],
    "metadata": {
     "collapsed": false
    }
   }
  }
 },
 "nbformat": 4,
 "nbformat_minor": 1
}