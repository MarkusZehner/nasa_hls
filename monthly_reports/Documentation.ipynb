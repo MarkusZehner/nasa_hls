{
 "cells": [
  {
   "cell_type": "markdown",
   "source": [
    "# API development for download of Sentinel-2 and Landsat-8 data\n",
    "## User defined mosaicking on harmonised products\n",
    "\n",
    "Two different multi-spectral optical satellite constellations deliver open data source for earth observation.\n",
    "The Sentinel-2 mission contains two identical satellites with suffix A and B, with opposite direction of orbits flying in a \n",
    "repeat cycle of 10 days each, 5 days for both orbits, respectively. Launch: 2015 (A), 2017 (B)[ESA].\n",
    "<br>\n",
    "As the second optical satellite Landsat 8 Operational Land Imager (OLI),...\n",
    "with a repeat cycle of 16 days.  Launch: 2013, come with [res. etc.]... 2013\n",
    "<br>\n",
    "\n",
    "\n",
    "The scope of this extension to Ben Mack's [email/github] aims to add the following to the program:\n",
    "1. \n"
   ],
   "metadata": {
    "collapsed": false
   }
  },
  {
   "cell_type": "code",
   "execution_count": null,
   "outputs": [],
   "source": [
    "%load_ext autoreload\n",
    "%autoreload 2\n",
    "%matplotlib inline\n",
    "\n",
    "import os\n",
    "import urllib\n",
    "import geopandas as gp\n",
    "from nasa_hls.utils import get_available_datasets\n",
    "from nasa_hls.download_hls_dataset import download_batch\n",
    "import pandas as pd"
   ],
   "metadata": {
    "collapsed": false,
    "pycharm": {
     "name": "#%%\n"
    }
   }
  },
  {
   "cell_type": "markdown",
   "source": [
    "\n"
   ],
   "metadata": {
    "collapsed": false,
    "pycharm": {
     "name": "#%% md\n"
    }
   }
  }
 ],
 "metadata": {
  "kernelspec": {
   "display_name": "Python 3",
   "language": "python",
   "name": "python3"
  },
  "language_info": {
   "codemirror_mode": {
    "name": "ipython",
    "version": 2
   },
   "file_extension": ".py",
   "mimetype": "text/x-python",
   "name": "python",
   "nbconvert_exporter": "python",
   "pygments_lexer": "ipython2",
   "version": "2.7.6"
  },
  "pycharm": {
   "stem_cell": {
    "cell_type": "raw",
    "source": [],
    "metadata": {
     "collapsed": false
    }
   }
  }
 },
 "nbformat": 4,
 "nbformat_minor": 0
}