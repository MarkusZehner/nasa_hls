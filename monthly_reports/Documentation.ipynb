{
 "cells": [
  {
   "cell_type": "markdown",
   "metadata": {},
   "source": [
    "# API development for download of Sentinel-2 and Landsat-8 data\n",
    "### User defined mosaicing of harmonised products\n",
    "_Robin Kohrs & Konstantin Schellenberg, February 2020, GEO 419_  \n",
    "_Supervisor: John Truckenbrodt¹, Martin Habermeyer²_ <br>\n",
    "<sub><sub>\n",
    "¹ Friedrich-Schiller-University Jena, chair of remote sensing <br>\n",
    "² Deutsches Luft- und Raumfahrtszentrum, earth observation center\n",
    "</sub></sub>\n",
    "\n",
    "## Tutorial\n",
    "This is the extention for nasa_hls. We developed following new functions:\n",
    "\n",
    "In order to make the program be more flexible, the goal of this extension is to\n",
    "1. Download tiles by setting spatial (user defined verctor geometry) and temporal inqueries to the HLS server,\n",
    "2. Mosaic the HDF4 formatted product per band and acquisition date.\n",
    "\n",
    "As part of the module report will want to add the following post procession tasks: \n",
    "3. Calculate spectral indexes from the downloaded products.\n",
    "4. Plot the results inline with `ipyleafet` and `folium` on a Open Street Map WMS service.\n",
    "\n",
    "Tasks 1 and 2 are meant to work in accordance with the `nasa_hls` package and aims to lead to a pull request to the repository; 3 and 4 shall give an overview of to use the new utilities and the HLS product.\n",
    "\n",
    "User guide to the HLS product:\n",
    "https://hls.gsfc.nasa.gov/wp-content/uploads/2019/01/HLS.v1.4.UserGuide_draft_ver3.1.pdf"
   ]
  },
  {
   "cell_type": "markdown",
   "metadata": {},
   "source": [
    "## Download HSL files with user input\n",
    "First, the module nasa_hls is loaded."
   ]
  },
  {
   "cell_type": "code",
   "execution_count": 6,
   "metadata": {},
   "outputs": [],
   "source": [
    "# change working directory \n",
    "import os\n",
    "os.chdir(\"/home/robin/python_projects/nasa_hls\")"
   ]
  },
  {
   "cell_type": "code",
   "execution_count": 14,
   "metadata": {},
   "outputs": [],
   "source": [
    "import warnings\n",
    "warnings.simplefilter(\"ignore\")"
   ]
  },
  {
   "cell_type": "code",
   "execution_count": 8,
   "metadata": {
    "pycharm": {
     "is_executing": false,
     "name": "#%%\n"
    }
   },
   "outputs": [],
   "source": [
    "%matplotlib inline\n",
    "\n",
    "import nasa_hls\n",
    "import sys\n",
    "import pandas as pd\n",
    "import os\n",
    "\n",
    "pd.set_option('display.max_columns', 500)\n",
    "pd.set_option('display.width', 1000)\n",
    "\n",
    "# and for later processing in the notebook"
   ]
  },
  {
   "cell_type": "markdown",
   "metadata": {},
   "source": [
    "For testing purpose, try downloading the kml file:"
   ]
  },
  {
   "cell_type": "code",
   "execution_count": 9,
   "metadata": {
    "pycharm": {
     "is_executing": true,
     "name": "#%%\n"
    }
   },
   "outputs": [
    {
     "name": "stdout",
     "output_type": "stream",
     "text": [
      "UTM tiles already successfully downloaded to:\n",
      " /home/robin/.nasa_hls/.auxdata/utm.kml \n",
      "\n"
     ]
    },
    {
     "data": {
      "text/plain": [
       "'/home/robin/.nasa_hls/.auxdata/utm.kml'"
      ]
     },
     "execution_count": 9,
     "metadata": {},
     "output_type": "execute_result"
    }
   ],
   "source": [
    "nasa_hls.download_kml()"
   ]
  },
  {
   "cell_type": "markdown",
   "metadata": {},
   "source": [
    "## Make list with GeoDataFrames\n",
    "\n",
    "- This will serve as a conformation for the user\n",
    "- It's a list of lists. Each inner list beeing the GeoDataFrames for the specified dates"
   ]
  },
  {
   "cell_type": "code",
   "execution_count": 15,
   "metadata": {
    "pycharm": {
     "is_executing": true,
     "name": "#%%\n"
    },
    "scrolled": true
   },
   "outputs": [
    {
     "name": "stdout",
     "output_type": "stream",
     "text": [
      "starting date: 2018-12-25\n",
      " \n",
      "UTM tiles already successfully downloaded to:\n",
      " /home/robin/.nasa_hls/.auxdata/utm.kml \n",
      "\n"
     ]
    },
    {
     "name": "stderr",
     "output_type": "stream",
     "text": [
      "\r",
      "  0%|          | 0/4 [00:00<?, ?it/s]"
     ]
    },
    {
     "name": "stdout",
     "output_type": "stream",
     "text": [
      "\n",
      "getting available datasets . . .\n"
     ]
    },
    {
     "name": "stderr",
     "output_type": "stream",
     "text": [
      "100%|██████████| 4/4 [00:07<00:00,  1.97s/it]\n"
     ]
    }
   ],
   "source": [
    "ds = nasa_hls.make_tiles_dataset(shape=\"/home/robin/python_projects/data/nasa_hls/test_shape/dummy_region.dbf\",\n",
    "                                products=[\"S30\"],\n",
    "                                start_date=\"2018-12-25\")\n"
   ]
  },
  {
   "cell_type": "code",
   "execution_count": 35,
   "metadata": {},
   "outputs": [
    {
     "name": "stdout",
     "output_type": "stream",
     "text": [
      "[    product   tile       date                                                url\n",
      "65      S30  34JDN 2018-12-27  https://hls.gsfc.nasa.gov/data/v1.4/S30/2018/3...\n",
      "200     S30  34JEN 2018-12-27  https://hls.gsfc.nasa.gov/data/v1.4/S30/2018/3...\n",
      "268     S30  34JDP 2018-12-27  https://hls.gsfc.nasa.gov/data/v1.4/S30/2018/3...\n",
      "403     S30  34JEP 2018-12-27  https://hls.gsfc.nasa.gov/data/v1.4/S30/2018/3...,     product   tile       date                                                url\n",
      "201     S30  34JEN 2018-12-29  https://hls.gsfc.nasa.gov/data/v1.4/S30/2018/3...\n",
      "404     S30  34JEP 2018-12-29  https://hls.gsfc.nasa.gov/data/v1.4/S30/2018/3...] \n",
      "\n",
      "\n",
      "The query starting at date '2018-12-25', resulted in 2 hls-scenes\n"
     ]
    }
   ],
   "source": [
    "# print the list of lists\n",
    "print(ds, \"\\n\\n\")\n",
    "print(\"The query starting at date '2018-12-25', resulted in {len} hls-prodcuts\".format(len = len(ds)))\n"
   ]
  },
  {
   "cell_type": "markdown",
   "metadata": {},
   "source": [
    "As one can see in the list, there are 4 scenes for the 27th of december and two products for the 29th."
   ]
  },
  {
   "cell_type": "markdown",
   "metadata": {},
   "source": [
    "Taking this list, the data sources can be downloaded via `download_tiles`. \n",
    "\n",
    "This function call `download_batch` and other methods internally in order to parse the right URLs for download.\n",
    "\n",
    "The path for the parameter `dir` needs to be adapted as this is user-specific."
   ]
  },
  {
   "cell_type": "code",
   "execution_count": 39,
   "metadata": {
    "pycharm": {
     "is_executing": true,
     "name": "#%%\n"
    }
   },
   "outputs": [
    {
     "name": "stderr",
     "output_type": "stream",
     "text": [
      "100%|██████████| 4/4 [05:48<00:00, 87.07s/it]\n",
      "100%|██████████| 2/2 [01:28<00:00, 44.44s/it]\n"
     ]
    }
   ],
   "source": [
    "nasa_hls.download_tiles(dstdir=os.path.join(\"/home/robin/python_projects/data/nasa_hls/hdf_tiles\"),\n",
    "                        dataframes=ds)"
   ]
  },
  {
   "cell_type": "markdown",
   "metadata": {},
   "source": [
    "***\n",
    "## Mosaicing tiles\n",
    "To simplify the handling of the downloaded files ... we mosaic the data according to the \n",
    "`make_mosaic.py`"
   ]
  },
  {
   "cell_type": "code",
   "execution_count": null,
   "metadata": {
    "pycharm": {
     "is_executing": true,
     "name": "#%%\n"
    }
   },
   "outputs": [],
   "source": [
    "path_in = os.path.join(os.path.expanduser('~'), 'Dokumente', 'nasa_hls', 'data', 'hdf' + os.sep)\n",
    "path_out =  os.path.join(os.path.expanduser('~'), 'Dokumente', 'nasa_hls', 'data', 'tifs' + os.sep)"
   ]
  },
  {
   "cell_type": "code",
   "execution_count": null,
   "metadata": {
    "pycharm": {
     "is_executing": true,
     "name": "#%%\n"
    }
   },
   "outputs": [],
   "source": []
  },
  {
   "cell_type": "code",
   "execution_count": null,
   "metadata": {
    "pycharm": {
     "is_executing": true,
     "name": "#%%\n"
    }
   },
   "outputs": [],
   "source": [
    "make_mosaic_tif()"
   ]
  },
  {
   "cell_type": "markdown",
   "metadata": {},
   "source": [
    "The output extent can now be clipped to the actual outline of the input geometry."
   ]
  },
  {
   "cell_type": "markdown",
   "metadata": {},
   "source": [
    "## Calculate Indexes"
   ]
  }
 ],
 "metadata": {
  "kernelspec": {
   "display_name": "Python 3",
   "language": "python",
   "name": "python3"
  },
  "language_info": {
   "codemirror_mode": {
    "name": "ipython",
    "version": 3
   },
   "file_extension": ".py",
   "mimetype": "text/x-python",
   "name": "python",
   "nbconvert_exporter": "python",
   "pygments_lexer": "ipython3",
   "version": "3.8.0"
  },
  "pycharm": {
   "stem_cell": {
    "cell_type": "raw",
    "metadata": {
     "collapsed": false
    },
    "source": []
   }
  }
 },
 "nbformat": 4,
 "nbformat_minor": 1
}
