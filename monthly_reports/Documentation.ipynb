{
 "cells": [
  {
   "cell_type": "markdown",
   "source": [
    "# API development for download of Sentinel-2 and Landsat-8 data\n",
    "### User defined mosaicing of harmonised products\n",
    "_Robin Kohrs & Konstantin Schellenberg, February 2020, GEO 419_  \n",
    "_Supervisor: John Truckenbrodt¹, Martin Habermeyer²_ <br>\n",
    "<sub><sub>\n",
    "¹ Friedrich-Schiller-University Jena, chair of remote sensing <br>\n",
    "² Deutsches Luft- und Raumfahrtszentrum, earth observation center\n",
    "</sub></sub>\n",
    "\n",
    "## Introduction\n",
    "\n",
    "Two different multi-spectral optical satellite constellations deliver open data source for earth observation.\n",
    "However, this extensively huge and growing database is merely comparable without significant pre-procession and \n",
    "alignment. New products from NASA promise an ease of efforts of comparability. The Harmonised Landsat Sentinel\n",
    "product (HLS) provides coregistered pixels and atmospherically corrected, thus fully harmonised scenes. By matching\n",
    "the individual swaths of the satellite constellations to the UTM tiles access is facilitated. \n",
    "\n",
    "The scope of this extension to [nasa_hls](https://github.com/benmack/nasa_hls.git) by Benjamin Mack aims to add the following functionality:\n",
    "1. Download tiles of the harmonised product with user input geometry\n",
    "2. Spatial mosaicing of the products for Landsat and Sentinel, and the acquisition dates, respectively\n",
    "\n",
    "As part of the module report will want to add the following post procession tasks: \n",
    "3. calculate spectral indexes from the downloaded products.\n",
    "4. Plot the results inline with `ipyleafet` and `folium` on a Open Street Map WMS service.\n",
    "\n",
    "### The Product  \n",
    "The Sentinel-2 mission contains two identical satellites with suffix A and B, with opposite direction of orbits flying in a \n",
    "repeat cycle of 10 days each, 5 days for both orbits, respectively. Launch: 2015 (A), 2017 (B)[ESA].\n",
    "<br>\n",
    "As the second optical satellite Landsat 8 Operational Land Imager (OLI),...\n",
    "with a repeat cycle of 16 days.  Launch: 2013, come with [res. etc.]... 2013"
   ],
   "metadata": {
    "collapsed": false
   }
  },
  {
   "cell_type": "markdown",
   "source": [
    "## Download HSL files with user input\n",
    "First, the module nasa_hls is loaded."
   ],
   "metadata": {
    "collapsed": false
   }
  },
  {
   "cell_type": "code",
   "execution_count": null,
   "outputs": [],
   "source": [
    "%matplotlib inline\n",
    "\n",
    "import nasa_hls\n",
    "import sys\n",
    "import pandas as pd\n",
    "import os\n",
    "\n",
    "pd.set_option('display.max_columns', 500)\n",
    "pd.set_option('display.width', 1000)\n",
    "\n",
    "# and for later processing in the notebook"
   ],
   "metadata": {
    "collapsed": false,
    "pycharm": {
     "name": "#%%\n"
    }
   }
  },
  {
   "cell_type": "markdown",
   "source": [
    "For testing purpose, try downloading the kml file:"
   ],
   "metadata": {
    "collapsed": false
   }
  },
  {
   "cell_type": "code",
   "execution_count": null,
   "outputs": [],
   "source": [
    "nasa_hls.download_kml()"
   ],
   "metadata": {
    "collapsed": false,
    "pycharm": {
     "name": "#%%\n"
    }
   }
  },
  {
   "cell_type": "markdown",
   "source": [
    "make tiles from the user given:\n",
    "1. spatial geometry\n",
    "2. date or time span\n",
    "3. product type (S30 or L30, or both)\n",
    "\n",
    "The input features should come in the WGS84 coordinate system.\n",
    "Dates have to be passes as yyyy-mm-dd strings.\n",
    "(when REQUEST = GetFeature) The time or time range for which to return the results, in ISO8601 format (year-month-date, for example: 2016-01-01). When a single time is specified the service will return data until the specified time. If a time range is specified the result is based on all scenes between the specified dates conforming to the cloud coverage criteria and stacked based on priority setting - e.g. most recent on top. The time range is written as two time values separated by a slash, followed by a second slash and a period parameter (which must be P1D). Optional, default: none (the last valid image is returned). Examples: \"TIME=2016-01-01\", \"TIME=2016-01-01/2016-02-01/P1D\".\n",
    "https://www.sentinel-hub.com/develop/documentation/api/ogc_api/wfs-request"
   ],
   "metadata": {
    "collapsed": false
   }
  },
  {
   "cell_type": "code",
   "execution_count": null,
   "outputs": [],
   "source": [
    "ds = nasa_hls.make_tiles_dataset(shape=\"/home/aleko-kon/Dokumente/nasa_hls/data/amazon.shp\",\n",
    "                                products=[\"S30\", \"L30\"],\n",
    "                                date=\"2018-05-05\")\n",
    "ds"
   ],
   "metadata": {
    "collapsed": false,
    "pycharm": {
     "name": "#%%\n"
    }
   }
  },
  {
   "cell_type": "markdown",
   "source": [
    "Taking this list, the data sources can be downloaded via `download_tiles`. <br> This function call `download_batch` and other methods internally in order to parse the right URLs for download."
   ],
   "metadata": {
    "collapsed": false
   }
  },
  {
   "cell_type": "code",
   "execution_count": null,
   "outputs": [],
   "source": [
    "nasa_hls.download_tiles(dstdir=os.path.join(os.path.expanduser('~'), 'Dokumente', 'nasa_hls', 'data', 'hdf'),\n",
    "                        datasets=ds)"
   ],
   "metadata": {
    "collapsed": false,
    "pycharm": {
     "name": "#%%\n"
    }
   }
  },
  {
   "cell_type": "markdown",
   "source": [
    "***\n",
    "## Mosaicing tiles\n",
    "To simplify the handling of the downloaded files ... we mosaic the data according to the \n",
    "`make_mosaic.py`"
   ],
   "metadata": {
    "collapsed": false
   }
  },
  {
   "cell_type": "code",
   "execution_count": null,
   "outputs": [],
   "source": [
    "path_in = os.path.join(os.path.expanduser('~'), 'Dokumente', 'nasa_hls', 'data', 'hdf' + os.sep)\n",
    "path_out =  os.path.join(os.path.expanduser('~'), 'Dokumente', 'nasa_hls', 'data', 'tifs' + os.sep)"
   ],
   "metadata": {
    "collapsed": false,
    "pycharm": {
     "name": "#%%\n"
    }
   }
  },
  {
   "cell_type": "code",
   "execution_count": null,
   "outputs": [],
   "source": [
    "import rasterio\n",
    "import os\n",
    "from spatialist import Vector\n",
    "import rasterio\n",
    "import glob\n",
    "from osgeo import gdal\n",
    "import os.path\n",
    "import sys\n",
    "\n",
    "from nasa_hls.download_tiles import get_available_datasets_from_shape\n",
    "from nasa_hls.download_hls_dataset import download_batch\n",
    "from nasa_hls.utils import BAND_NAMES\n",
    "\n",
    "def make_mosaic_tif(srcdir = path_in, dstdir = path_out, bands = None, product = \"S30\"):\n",
    "\n",
    "    # get all hdf-files\n",
    "    hdf_files_list = list(glob.glob(srcdir + '*.hdf'))\n",
    "\n",
    "    # make list of all dates in directory\n",
    "    dates_doy = []\n",
    "    for line in hdf_files_list:\n",
    "        l = line.split(\".\")[3][4:]\n",
    "        dates_doy.append(l)\n",
    "\n",
    "    # print list with unique\n",
    "    #print(dates_doy)\n",
    "\n",
    "    # make a function that gets the unique entries from a list\n",
    "    # these will be the keys afterwards\n",
    "    def unique_dates(liste):\n",
    "        unique_dates = []\n",
    "        for x in liste:\n",
    "            if x not in unique_dates:\n",
    "                unique_dates.append(x)\n",
    "        return unique_dates\n",
    "    \n",
    "    # make the list of unique dates\n",
    "    unique_doy = unique_dates(dates_doy)\n",
    "    \n",
    "\n",
    "    # create dictionary with keys being the unique dates\n",
    "    # not yet specify the value-type\n",
    "    dataframe_dict = {date: None for date in unique_doy}\n",
    "\n",
    "    # add rows of orignial dataframe as values\n",
    "    for key in dataframe_dict.keys():\n",
    "        foo = []\n",
    "        # now go over all the files\n",
    "        for line in hdf_files_list:\n",
    "            # get the doy\n",
    "            line_date = line.split(\".\")[3][4:]\n",
    "            # wenn doy in der line == dem key, dann schreib es in die liste foo\n",
    "            if key == line_date:\n",
    "                foo.append(line)\n",
    "        # nachdem du über alle files gegangen bist, schreib an den key mit dem doy die aktuelle foo-liste,\n",
    "        # die nach diesem Durchgang wieder neu aufgesetzt wird\n",
    "        dataframe_dict[key] = foo\n",
    "\n",
    "    #print(dataframe_dict[\"311\"], \"\\n\\n\")\n",
    "    #for key, item in dataframe_dict.items():\n",
    "         #print(key, item, \"\\n\")\n",
    "\n",
    "     #check if band is specified\n",
    "    if bands is None:\n",
    "        bands = list(BAND_NAMES[product].keys())\n",
    "        long_band_names = []\n",
    "        for long_band_name in bands:\n",
    "            band = BAND_NAMES[product][long_band_name]\n",
    "            long_band_names.append(band)\n",
    "    else:\n",
    "        long_band_names = bands\n",
    "        \n",
    "    \n",
    "\n",
    "    for key in dataframe_dict.keys():\n",
    "        for band in long_band_names:\n",
    "            hdf_list = dataframe_dict[key]\n",
    "            hdf_file_bands = []\n",
    "            for hdf_file in hdf_list:\n",
    "                filename = 'HDF4_EOS:EOS_GRID:\"{0}\":Grid:{1}'.format(hdf_file, band)\n",
    "                hdf_file_bands.append(filename)\n",
    "\n",
    "            #print(\"\\n\".join(hdf_file_bands))\n",
    "            # make mosaics for each band for each date\n",
    "            vrt_path = os.path.join(path_out + key + band + \".vrt\")\n",
    "            build_vrt = gdal.BuildVRT(vrt_path, hdf_file_bands)\n",
    "            build_vrt = None\n",
    "\n",
    "    dates_dict = {date: None for date in unique_doy}\n",
    "\n",
    "    # list of vrts\n",
    "    vrts_path = path_out\n",
    "    vrts = list(glob.glob(vrts_path + \"*.vrt\"))\n",
    "    \n",
    "    #print(vrts)\n",
    "    \n",
    "\n",
    "    for key in dates_dict.keys():\n",
    "        files = []\n",
    "        for single_file in vrts:\n",
    "            doy = single_file.split(\"/\")[-1][0:3]\n",
    "            if key == doy:\n",
    "                files.append(single_file)\n",
    "\n",
    "        dates_dict[key] = files\n",
    "\n",
    "\n",
    "    ######is\n",
    "    #print the dict\n",
    "    ######\n",
    "    # for keys, items in dates_dict.items():\n",
    "    #     print(keys, items, \"\\n\")\n",
    "    # print dictionary nicely\n",
    "    #print(\"\\n\".join(\"{}\\t{}\".format(k, v) for k, v in dates_dict.items()))\n",
    "    #print(len(dates_dict))\n",
    "\n",
    "    for date in dates_dict.keys():\n",
    "        print(date)\n",
    "        vrts_per_date = dates_dict[date]\n",
    "        vrt_path = os.path.join(path_out + date + \"final.vrt\")\n",
    "        single_vrt = gdal.BuildVRT(vrt_path, vrts_per_date, separate=True)\n",
    "        tiff_path = os.path.join(dstdir + date + \".tiff\")\n",
    "        final_tif = gdal.Translate(tiff_path, single_vrt)\n",
    "\n",
    "\n",
    "\n",
    "\n",
    "\n",
    "\n",
    "\n",
    "            # final_tif = gdal.Translate(os.path.join(path_data_lin_robin + \"mosaic/\" + key + band + \".tiff\"), build_vrt)\n",
    "            # final_tif = None\n",
    "            # build_vrt = None\n"
   ],
   "metadata": {
    "collapsed": false,
    "pycharm": {
     "name": "#%%\n"
    }
   }
  },
  {
   "cell_type": "code",
   "execution_count": null,
   "outputs": [],
   "source": [
    "make_mosaic_tif()"
   ],
   "metadata": {
    "collapsed": false,
    "pycharm": {
     "name": "#%%\n"
    }
   }
  },
  {
   "cell_type": "markdown",
   "source": [
    "The output extent can now be clipped to the actual outline of the input geometry."
   ],
   "metadata": {
    "collapsed": false
   }
  },
  {
   "cell_type": "markdown",
   "source": [
    "## Calculate Indexes"
   ],
   "metadata": {
    "collapsed": false
   }
  },
  {
   "cell_type": "markdown",
   "source": [
    "## Visualise Data"
   ],
   "metadata": {
    "collapsed": false
   }
  }
 ],
 "metadata": {
  "kernelspec": {
   "display_name": "Python 3",
   "language": "python",
   "name": "python3"
  },
  "language_info": {
   "codemirror_mode": {
    "name": "ipython",
    "version": 3
   },
   "file_extension": ".py",
   "mimetype": "text/x-python",
   "name": "python",
   "nbconvert_exporter": "python",
   "pygments_lexer": "ipython3",
   "version": "3.7.4"
  },
  "pycharm": {
   "stem_cell": {
    "cell_type": "raw",
    "source": [],
    "metadata": {
     "collapsed": false
    }
   }
  }
 },
 "nbformat": 4,
 "nbformat_minor": 1
}