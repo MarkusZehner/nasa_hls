{
 "cells": [
  {
   "cell_type": "markdown",
   "metadata": {},
   "source": [
    "## Working with HLS datasets: cloud cover, GeoTIFFs, and the QA band\n",
    "\n",
    "This guide shows how to use some of the utilities implemented in *nasa_hls* for working with NASA's Harmonized Landsat and Sentinel-2 Project (https://hls.gsfc.nasa.gov/) data.\n",
    "It covers the follwoing topics:\n",
    "\n",
    "* Derive the cloud cover percentage from the metadata of a HDF file.\n",
    "\n",
    "* Convert HDF datasets to single layer GeoTIFFs.\n",
    "\n",
    "* Convert the binary QA layer in a clear-sky mask."
   ]
  },
  {
   "cell_type": "code",
   "execution_count": 1,
   "metadata": {},
   "outputs": [],
   "source": [
    "%load_ext autoreload\n",
    "%autoreload 2\n",
    "%matplotlib inline\n",
    "\n",
    "import matplotlib.pyplot as plt\n",
    "import numpy as np\n",
    "from pathlib import Path\n",
    "import pandas as pd\n",
    "import rasterio\n",
    "\n",
    "import nasa_hls"
   ]
  },
  {
   "cell_type": "markdown",
   "metadata": {},
   "source": [
    "### The sample data \n",
    "\n",
    "We assume the data that has been created wiht the 'Query and download HLS datasets with *nasa_hls*' guide."
   ]
  },
  {
   "cell_type": "code",
   "execution_count": 2,
   "metadata": {},
   "outputs": [
    {
     "data": {
      "text/html": [
       "<div>\n",
       "<style scoped>\n",
       "    .dataframe tbody tr th:only-of-type {\n",
       "        vertical-align: middle;\n",
       "    }\n",
       "\n",
       "    .dataframe tbody tr th {\n",
       "        vertical-align: top;\n",
       "    }\n",
       "\n",
       "    .dataframe thead th {\n",
       "        text-align: right;\n",
       "    }\n",
       "</style>\n",
       "<table border=\"1\" class=\"dataframe\">\n",
       "  <thead>\n",
       "    <tr style=\"text-align: right;\">\n",
       "      <th></th>\n",
       "      <th>product</th>\n",
       "      <th>tile</th>\n",
       "      <th>date</th>\n",
       "      <th>url</th>\n",
       "      <th>year</th>\n",
       "      <th>month</th>\n",
       "      <th>day</th>\n",
       "      <th>path</th>\n",
       "    </tr>\n",
       "    <tr>\n",
       "      <th>id</th>\n",
       "      <th></th>\n",
       "      <th></th>\n",
       "      <th></th>\n",
       "      <th></th>\n",
       "      <th></th>\n",
       "      <th></th>\n",
       "      <th></th>\n",
       "      <th></th>\n",
       "    </tr>\n",
       "  </thead>\n",
       "  <tbody>\n",
       "    <tr>\n",
       "      <th>HLS.L30.T32UNU.2018092.v1.4</th>\n",
       "      <td>L30</td>\n",
       "      <td>32UNU</td>\n",
       "      <td>2018-04-02</td>\n",
       "      <td>https://hls.gsfc.nasa.gov/data/v1.4/L30/2018/3...</td>\n",
       "      <td>2018</td>\n",
       "      <td>4</td>\n",
       "      <td>2</td>\n",
       "      <td>./xxx_uncontrolled_hls/downloads/HLS.L30.T32UN...</td>\n",
       "    </tr>\n",
       "    <tr>\n",
       "      <th>HLS.S30.T32UNU.2018092.v1.4</th>\n",
       "      <td>S30</td>\n",
       "      <td>32UNU</td>\n",
       "      <td>2018-04-02</td>\n",
       "      <td>https://hls.gsfc.nasa.gov/data/v1.4/S30/2018/3...</td>\n",
       "      <td>2018</td>\n",
       "      <td>4</td>\n",
       "      <td>2</td>\n",
       "      <td>./xxx_uncontrolled_hls/downloads/HLS.S30.T32UN...</td>\n",
       "    </tr>\n",
       "    <tr>\n",
       "      <th>HLS.L30.T32UPU.2018092.v1.4</th>\n",
       "      <td>L30</td>\n",
       "      <td>32UPU</td>\n",
       "      <td>2018-04-02</td>\n",
       "      <td>https://hls.gsfc.nasa.gov/data/v1.4/L30/2018/3...</td>\n",
       "      <td>2018</td>\n",
       "      <td>4</td>\n",
       "      <td>2</td>\n",
       "      <td>./xxx_uncontrolled_hls/downloads/HLS.L30.T32UP...</td>\n",
       "    </tr>\n",
       "    <tr>\n",
       "      <th>HLS.S30.T32UPU.2018092.v1.4</th>\n",
       "      <td>S30</td>\n",
       "      <td>32UPU</td>\n",
       "      <td>2018-04-02</td>\n",
       "      <td>https://hls.gsfc.nasa.gov/data/v1.4/S30/2018/3...</td>\n",
       "      <td>2018</td>\n",
       "      <td>4</td>\n",
       "      <td>2</td>\n",
       "      <td>./xxx_uncontrolled_hls/downloads/HLS.S30.T32UP...</td>\n",
       "    </tr>\n",
       "    <tr>\n",
       "      <th>HLS.L30.T32UPU.2018099.v1.4</th>\n",
       "      <td>L30</td>\n",
       "      <td>32UPU</td>\n",
       "      <td>2018-04-09</td>\n",
       "      <td>https://hls.gsfc.nasa.gov/data/v1.4/L30/2018/3...</td>\n",
       "      <td>2018</td>\n",
       "      <td>4</td>\n",
       "      <td>9</td>\n",
       "      <td>./xxx_uncontrolled_hls/downloads/HLS.L30.T32UP...</td>\n",
       "    </tr>\n",
       "    <tr>\n",
       "      <th>HLS.S30.T32UPU.2018099.v1.4</th>\n",
       "      <td>S30</td>\n",
       "      <td>32UPU</td>\n",
       "      <td>2018-04-09</td>\n",
       "      <td>https://hls.gsfc.nasa.gov/data/v1.4/S30/2018/3...</td>\n",
       "      <td>2018</td>\n",
       "      <td>4</td>\n",
       "      <td>9</td>\n",
       "      <td>./xxx_uncontrolled_hls/downloads/HLS.S30.T32UP...</td>\n",
       "    </tr>\n",
       "    <tr>\n",
       "      <th>HLS.L30.T32UNU.2018115.v1.4</th>\n",
       "      <td>L30</td>\n",
       "      <td>32UNU</td>\n",
       "      <td>2018-04-25</td>\n",
       "      <td>https://hls.gsfc.nasa.gov/data/v1.4/L30/2018/3...</td>\n",
       "      <td>2018</td>\n",
       "      <td>4</td>\n",
       "      <td>25</td>\n",
       "      <td>./xxx_uncontrolled_hls/downloads/HLS.L30.T32UN...</td>\n",
       "    </tr>\n",
       "    <tr>\n",
       "      <th>HLS.S30.T32UNU.2018115.v1.4</th>\n",
       "      <td>S30</td>\n",
       "      <td>32UNU</td>\n",
       "      <td>2018-04-25</td>\n",
       "      <td>https://hls.gsfc.nasa.gov/data/v1.4/S30/2018/3...</td>\n",
       "      <td>2018</td>\n",
       "      <td>4</td>\n",
       "      <td>25</td>\n",
       "      <td>./xxx_uncontrolled_hls/downloads/HLS.S30.T32UN...</td>\n",
       "    </tr>\n",
       "  </tbody>\n",
       "</table>\n",
       "</div>"
      ],
      "text/plain": [
       "                            product   tile        date  \\\n",
       "id                                                       \n",
       "HLS.L30.T32UNU.2018092.v1.4     L30  32UNU  2018-04-02   \n",
       "HLS.S30.T32UNU.2018092.v1.4     S30  32UNU  2018-04-02   \n",
       "HLS.L30.T32UPU.2018092.v1.4     L30  32UPU  2018-04-02   \n",
       "HLS.S30.T32UPU.2018092.v1.4     S30  32UPU  2018-04-02   \n",
       "HLS.L30.T32UPU.2018099.v1.4     L30  32UPU  2018-04-09   \n",
       "HLS.S30.T32UPU.2018099.v1.4     S30  32UPU  2018-04-09   \n",
       "HLS.L30.T32UNU.2018115.v1.4     L30  32UNU  2018-04-25   \n",
       "HLS.S30.T32UNU.2018115.v1.4     S30  32UNU  2018-04-25   \n",
       "\n",
       "                                                                           url  \\\n",
       "id                                                                               \n",
       "HLS.L30.T32UNU.2018092.v1.4  https://hls.gsfc.nasa.gov/data/v1.4/L30/2018/3...   \n",
       "HLS.S30.T32UNU.2018092.v1.4  https://hls.gsfc.nasa.gov/data/v1.4/S30/2018/3...   \n",
       "HLS.L30.T32UPU.2018092.v1.4  https://hls.gsfc.nasa.gov/data/v1.4/L30/2018/3...   \n",
       "HLS.S30.T32UPU.2018092.v1.4  https://hls.gsfc.nasa.gov/data/v1.4/S30/2018/3...   \n",
       "HLS.L30.T32UPU.2018099.v1.4  https://hls.gsfc.nasa.gov/data/v1.4/L30/2018/3...   \n",
       "HLS.S30.T32UPU.2018099.v1.4  https://hls.gsfc.nasa.gov/data/v1.4/S30/2018/3...   \n",
       "HLS.L30.T32UNU.2018115.v1.4  https://hls.gsfc.nasa.gov/data/v1.4/L30/2018/3...   \n",
       "HLS.S30.T32UNU.2018115.v1.4  https://hls.gsfc.nasa.gov/data/v1.4/S30/2018/3...   \n",
       "\n",
       "                             year  month  day  \\\n",
       "id                                              \n",
       "HLS.L30.T32UNU.2018092.v1.4  2018      4    2   \n",
       "HLS.S30.T32UNU.2018092.v1.4  2018      4    2   \n",
       "HLS.L30.T32UPU.2018092.v1.4  2018      4    2   \n",
       "HLS.S30.T32UPU.2018092.v1.4  2018      4    2   \n",
       "HLS.L30.T32UPU.2018099.v1.4  2018      4    9   \n",
       "HLS.S30.T32UPU.2018099.v1.4  2018      4    9   \n",
       "HLS.L30.T32UNU.2018115.v1.4  2018      4   25   \n",
       "HLS.S30.T32UNU.2018115.v1.4  2018      4   25   \n",
       "\n",
       "                                                                          path  \n",
       "id                                                                              \n",
       "HLS.L30.T32UNU.2018092.v1.4  ./xxx_uncontrolled_hls/downloads/HLS.L30.T32UN...  \n",
       "HLS.S30.T32UNU.2018092.v1.4  ./xxx_uncontrolled_hls/downloads/HLS.S30.T32UN...  \n",
       "HLS.L30.T32UPU.2018092.v1.4  ./xxx_uncontrolled_hls/downloads/HLS.L30.T32UP...  \n",
       "HLS.S30.T32UPU.2018092.v1.4  ./xxx_uncontrolled_hls/downloads/HLS.S30.T32UP...  \n",
       "HLS.L30.T32UPU.2018099.v1.4  ./xxx_uncontrolled_hls/downloads/HLS.L30.T32UP...  \n",
       "HLS.S30.T32UPU.2018099.v1.4  ./xxx_uncontrolled_hls/downloads/HLS.S30.T32UP...  \n",
       "HLS.L30.T32UNU.2018115.v1.4  ./xxx_uncontrolled_hls/downloads/HLS.L30.T32UN...  \n",
       "HLS.S30.T32UNU.2018115.v1.4  ./xxx_uncontrolled_hls/downloads/HLS.S30.T32UN...  "
      ]
     },
     "metadata": {},
     "output_type": "display_data"
    }
   ],
   "source": [
    "hdf_dir = Path(\"./xxx_uncontrolled_hls/downloads\")\n",
    "geotiff_dir = Path(\"./xxx_uncontrolled_hls/geotiffs\")\n",
    "\n",
    "import pandas as pd\n",
    "df_downloaded = pd.read_csv(\"./xxx_uncontrolled_hls/downloads/df_downloads.csv\", index_col=\"id\")\n",
    "display(df_downloaded)"
   ]
  },
  {
   "cell_type": "markdown",
   "metadata": {},
   "source": [
    "### Derive metadata from HDF file \n",
    "\n",
    "The HDF files come with rich metadata that can be read from the files with ``gdalinfo``.\n",
    "The [HLS v1.4 UserGuide](https://hls.gsfc.nasa.gov/wp-content/uploads/2019/01/HLS.v1.4.UserGuide_draft_ver3.1.pdf) lists the metadata fields with a short description in Section 6.6.\n",
    "\n",
    "The full outcome of ``gdalinfo`` for the sample scene looks as follows:"
   ]
  },
  {
   "cell_type": "code",
   "execution_count": 3,
   "metadata": {},
   "outputs": [
    {
     "name": "stdout",
     "output_type": "stream",
     "text": [
      "Driver: HDF4/Hierarchical Data Format Release 4\n",
      "Files: ./xxx_uncontrolled_hls/downloads/HLS.L30.T32UNU.2018092.v1.4.hdf\n",
      "Size is 512, 512\n",
      "Metadata:\n",
      "  ACCODE=LaSRCL8V3.5.5; LaSRCL8V3.5.5\n",
      "  arop_ave_xshift(meters)=-10.5, -17.0999999999767\n",
      "  arop_ave_yshift(meters)=-10.5, -10.5\n",
      "  arop_ncp=156, 364\n",
      "  arop_rmse(meters)=4.32, 3.91\n",
      "  arop_s2_refimg=/nobackupp6/jju/S2REFIMG/32UNU_2016273A.S2A_OPER_MSI_L1C_TL_SGS__20160929T154211_A006640_T32UNU_B08.jp2\n",
      "  cloud_coverage=24\n",
      "  DATA_TYPE=L1TP; L1TP\n",
      "  HLS_PROCESSING_TIME=2018-05-22T01:14:35Z\n",
      "  HORIZONTAL_CS_NAME=UTM, WGS84, UTM ZONE 32; UTM, WGS84, UTM ZONE 32\n",
      "  L1_PROCESSING_TIME=2018-04-16T22:40:45Z; 2018-04-16T22:42:02Z\n",
      "  LANDSAT_PRODUCT_ID=LC08_L1TP_193026_20180402_20180416_01_T1; LC08_L1TP_193027_20180402_20180416_01_T1\n",
      "  LANDSAT_SCENE_ID=LC81930262018092LGN00; LC81930272018092LGN00\n",
      "  MEAN_SUN_AZIMUTH_ANGLE=154.21429006, 152.99684032\n",
      "  MEAN_SUN_ZENITH_ANGLE=46.61961515, 45.48706472\n",
      "  NBAR_Solar_Zenith=50.3345670872353\n",
      "  NCOLS=3660\n",
      "  NROWS=3660\n",
      "  SENSING_TIME=2018-04-02T10:03:11.3268150Z; 2018-04-02T10:03:35.2051460Z\n",
      "  SENSOR=OLI_TIRS; OLI_TIRS\n",
      "  SENTINEL2_TILEID=32UNU\n",
      "  spatial_coverage=29\n",
      "  SPATIAL_RESOLUTION=30\n",
      "  TIRS_SSM_MODEL=FINAL; FINAL\n",
      "  TIRS_SSM_POSITION_STATUS=ESTIMATED; ESTIMATED\n",
      "  ULX=499980\n",
      "  ULY=5400000\n",
      "  USGS_SOFTWARE=LPGS_13.0.0\n",
      "Subdatasets:\n",
      "  SUBDATASET_1_NAME=HDF4_EOS:EOS_GRID:\"./xxx_uncontrolled_hls/downloads/HLS.L30.T32UNU.2018092.v1.4.hdf\":Grid:band01\n",
      "  SUBDATASET_1_DESC=[3660x3660] band01 Grid (16-bit integer)\n",
      "  SUBDATASET_2_NAME=HDF4_EOS:EOS_GRID:\"./xxx_uncontrolled_hls/downloads/HLS.L30.T32UNU.2018092.v1.4.hdf\":Grid:band02\n",
      "  SUBDATASET_2_DESC=[3660x3660] band02 Grid (16-bit integer)\n",
      "  SUBDATASET_3_NAME=HDF4_EOS:EOS_GRID:\"./xxx_uncontrolled_hls/downloads/HLS.L30.T32UNU.2018092.v1.4.hdf\":Grid:band03\n",
      "  SUBDATASET_3_DESC=[3660x3660] band03 Grid (16-bit integer)\n",
      "  SUBDATASET_4_NAME=HDF4_EOS:EOS_GRID:\"./xxx_uncontrolled_hls/downloads/HLS.L30.T32UNU.2018092.v1.4.hdf\":Grid:band04\n",
      "  SUBDATASET_4_DESC=[3660x3660] band04 Grid (16-bit integer)\n",
      "  SUBDATASET_5_NAME=HDF4_EOS:EOS_GRID:\"./xxx_uncontrolled_hls/downloads/HLS.L30.T32UNU.2018092.v1.4.hdf\":Grid:band05\n",
      "  SUBDATASET_5_DESC=[3660x3660] band05 Grid (16-bit integer)\n",
      "  SUBDATASET_6_NAME=HDF4_EOS:EOS_GRID:\"./xxx_uncontrolled_hls/downloads/HLS.L30.T32UNU.2018092.v1.4.hdf\":Grid:band06\n",
      "  SUBDATASET_6_DESC=[3660x3660] band06 Grid (16-bit integer)\n",
      "  SUBDATASET_7_NAME=HDF4_EOS:EOS_GRID:\"./xxx_uncontrolled_hls/downloads/HLS.L30.T32UNU.2018092.v1.4.hdf\":Grid:band07\n",
      "  SUBDATASET_7_DESC=[3660x3660] band07 Grid (16-bit integer)\n",
      "  SUBDATASET_8_NAME=HDF4_EOS:EOS_GRID:\"./xxx_uncontrolled_hls/downloads/HLS.L30.T32UNU.2018092.v1.4.hdf\":Grid:band09\n",
      "  SUBDATASET_8_DESC=[3660x3660] band09 Grid (16-bit integer)\n",
      "  SUBDATASET_9_NAME=HDF4_EOS:EOS_GRID:\"./xxx_uncontrolled_hls/downloads/HLS.L30.T32UNU.2018092.v1.4.hdf\":Grid:band10\n",
      "  SUBDATASET_9_DESC=[3660x3660] band10 Grid (16-bit integer)\n",
      "  SUBDATASET_10_NAME=HDF4_EOS:EOS_GRID:\"./xxx_uncontrolled_hls/downloads/HLS.L30.T32UNU.2018092.v1.4.hdf\":Grid:band11\n",
      "  SUBDATASET_10_DESC=[3660x3660] band11 Grid (16-bit integer)\n",
      "  SUBDATASET_11_NAME=HDF4_EOS:EOS_GRID:\"./xxx_uncontrolled_hls/downloads/HLS.L30.T32UNU.2018092.v1.4.hdf\":Grid:QA\n",
      "  SUBDATASET_11_DESC=[3660x3660] QA Grid (8-bit unsigned integer)\n",
      "Corner Coordinates:\n",
      "Upper Left  (    0.0,    0.0)\n",
      "Lower Left  (    0.0,  512.0)\n",
      "Upper Right (  512.0,    0.0)\n",
      "Lower Right (  512.0,  512.0)\n",
      "Center      (  256.0,  256.0)\n"
     ]
    }
   ],
   "source": [
    "%%bash\n",
    "gdalinfo ./xxx_uncontrolled_hls/downloads/HLS.L30.T32UNU.2018092.v1.4.hdf"
   ]
  },
  {
   "cell_type": "markdown",
   "metadata": {},
   "source": [
    "The values for the fields separated from its values with a '=' derived given a HDF file."
   ]
  },
  {
   "cell_type": "code",
   "execution_count": 4,
   "metadata": {},
   "outputs": [
    {
     "name": "stdout",
     "output_type": "stream",
     "text": [
      "./xxx_uncontrolled_hls/downloads/HLS.L30.T32UNU.2018092.v1.4.hdf\n"
     ]
    },
    {
     "data": {
      "text/plain": [
       "{'cloud_cover': 24.0, 'spatial_coverage': 29.0}"
      ]
     },
     "execution_count": 4,
     "metadata": {},
     "output_type": "execute_result"
    }
   ],
   "source": [
    "print(df_downloaded[\"path\"][0])\n",
    "nasa_hls.get_metadata_from_hdf(df_downloaded[\"path\"][0], \n",
    "                               fields=[\"cloud_cover\", \"spatial_coverage\"])"
   ]
  },
  {
   "cell_type": "markdown",
   "metadata": {},
   "source": [
    "Note that you will still get a dictionary back even if a specified field cannot be found.\n",
    "However you should get a warning for each field that could not be found."
   ]
  },
  {
   "cell_type": "code",
   "execution_count": 5,
   "metadata": {},
   "outputs": [
    {
     "name": "stderr",
     "output_type": "stream",
     "text": [
      "/home/ben/Devel/Repos_Py/nasa_hls/nasa_hls/utils.py:210: UserWarning: Could not find metadata for field 'ZZZZZ'.\n",
      "  warnings.warn(f\"Could not find metadata for field '{field}'.\")\n",
      "/home/ben/Devel/Repos_Py/nasa_hls/nasa_hls/utils.py:210: UserWarning: Could not find metadata for field 'DUBIDUBIDUUU'.\n",
      "  warnings.warn(f\"Could not find metadata for field '{field}'.\")\n"
     ]
    },
    {
     "data": {
      "text/plain": [
       "{'cloud_cover': 24.0}"
      ]
     },
     "execution_count": 5,
     "metadata": {},
     "output_type": "execute_result"
    }
   ],
   "source": [
    "nasa_hls.get_metadata_from_hdf(df_downloaded[\"path\"][0], \n",
    "                               fields=[\"cloud_cover\", \"ZZZZZ\", \"DUBIDUBIDUUU\"])"
   ]
  },
  {
   "cell_type": "markdown",
   "metadata": {},
   "source": [
    "Here we derive the cloud cover and spatial coverage for all the downloaded scenes."
   ]
  },
  {
   "cell_type": "code",
   "execution_count": 6,
   "metadata": {},
   "outputs": [
    {
     "data": {
      "text/html": [
       "<div>\n",
       "<style scoped>\n",
       "    .dataframe tbody tr th:only-of-type {\n",
       "        vertical-align: middle;\n",
       "    }\n",
       "\n",
       "    .dataframe tbody tr th {\n",
       "        vertical-align: top;\n",
       "    }\n",
       "\n",
       "    .dataframe thead th {\n",
       "        text-align: right;\n",
       "    }\n",
       "</style>\n",
       "<table border=\"1\" class=\"dataframe\">\n",
       "  <thead>\n",
       "    <tr style=\"text-align: right;\">\n",
       "      <th></th>\n",
       "      <th>cloud_cover</th>\n",
       "      <th>spatial_coverage</th>\n",
       "    </tr>\n",
       "    <tr>\n",
       "      <th>id</th>\n",
       "      <th></th>\n",
       "      <th></th>\n",
       "    </tr>\n",
       "  </thead>\n",
       "  <tbody>\n",
       "    <tr>\n",
       "      <th>HLS.L30.T32UNU.2018092.v1.4</th>\n",
       "      <td>24.0</td>\n",
       "      <td>29.0</td>\n",
       "    </tr>\n",
       "    <tr>\n",
       "      <th>HLS.S30.T32UNU.2018092.v1.4</th>\n",
       "      <td>85.0</td>\n",
       "      <td>100.0</td>\n",
       "    </tr>\n",
       "    <tr>\n",
       "      <th>HLS.L30.T32UPU.2018092.v1.4</th>\n",
       "      <td>11.0</td>\n",
       "      <td>100.0</td>\n",
       "    </tr>\n",
       "    <tr>\n",
       "      <th>HLS.S30.T32UPU.2018092.v1.4</th>\n",
       "      <td>66.0</td>\n",
       "      <td>100.0</td>\n",
       "    </tr>\n",
       "    <tr>\n",
       "      <th>HLS.L30.T32UPU.2018099.v1.4</th>\n",
       "      <td>100.0</td>\n",
       "      <td>50.0</td>\n",
       "    </tr>\n",
       "    <tr>\n",
       "      <th>HLS.S30.T32UPU.2018099.v1.4</th>\n",
       "      <td>100.0</td>\n",
       "      <td>72.0</td>\n",
       "    </tr>\n",
       "    <tr>\n",
       "      <th>HLS.L30.T32UNU.2018115.v1.4</th>\n",
       "      <td>28.0</td>\n",
       "      <td>100.0</td>\n",
       "    </tr>\n",
       "    <tr>\n",
       "      <th>HLS.S30.T32UNU.2018115.v1.4</th>\n",
       "      <td>47.0</td>\n",
       "      <td>58.0</td>\n",
       "    </tr>\n",
       "  </tbody>\n",
       "</table>\n",
       "</div>"
      ],
      "text/plain": [
       "                             cloud_cover  spatial_coverage\n",
       "id                                                        \n",
       "HLS.L30.T32UNU.2018092.v1.4         24.0              29.0\n",
       "HLS.S30.T32UNU.2018092.v1.4         85.0             100.0\n",
       "HLS.L30.T32UPU.2018092.v1.4         11.0             100.0\n",
       "HLS.S30.T32UPU.2018092.v1.4         66.0             100.0\n",
       "HLS.L30.T32UPU.2018099.v1.4        100.0              50.0\n",
       "HLS.S30.T32UPU.2018099.v1.4        100.0              72.0\n",
       "HLS.L30.T32UNU.2018115.v1.4         28.0             100.0\n",
       "HLS.S30.T32UNU.2018115.v1.4         47.0              58.0"
      ]
     },
     "execution_count": 6,
     "metadata": {},
     "output_type": "execute_result"
    }
   ],
   "source": [
    "df_downloaded[\"cloud_cover\"] = np.NaN\n",
    "df_downloaded[\"spatial_coverage\"] = np.NaN\n",
    "\n",
    "for i in df_downloaded.index:\n",
    "    _ = nasa_hls.get_metadata_from_hdf(df_downloaded.loc[i, \"path\"], \n",
    "                                       fields=[\"cloud_cover\", \n",
    "                                               \"spatial_coverage\"])\n",
    "    df_downloaded.loc[i, \"cloud_cover\"] = _[\"cloud_cover\"]\n",
    "    df_downloaded.loc[i, \"spatial_coverage\"] = _[\"spatial_coverage\"]\n",
    "df_downloaded[[\"cloud_cover\", \"spatial_coverage\"]]"
   ]
  },
  {
   "cell_type": "markdown",
   "metadata": {},
   "source": [
    "Or as a plot:"
   ]
  },
  {
   "cell_type": "code",
   "execution_count": 7,
   "metadata": {},
   "outputs": [
    {
     "data": {
      "text/plain": [
       "<matplotlib.axes._subplots.AxesSubplot at 0x7f5f705a8b80>"
      ]
     },
     "execution_count": 7,
     "metadata": {},
     "output_type": "execute_result"
    },
    {
     "data": {
      "image/png": "[encoded data removed]",
      "text/plain": [
       "<Figure size 1152x432 with 1 Axes>"
      ]
     },
     "metadata": {
      "needs_background": "light"
     },
     "output_type": "display_data"
    }
   ],
   "source": [
    "df_downloaded[\"product_date\"] = df_downloaded[\"product\"] + \"-\" + df_downloaded[\"date\"]\n",
    "df_downloaded[\"date_tile\"] = df_downloaded[\"date\"] + \"-\" + df_downloaded[\"tile\"]\n",
    "#df_downloaded.pivot(index=\"product_date\", columns=\"tile\", values=\"cloud_cover\").plot.bar(figsize=(16, 6))\n",
    "df_downloaded.pivot(index=\"date_tile\", \n",
    "                    columns=\"product\", \n",
    "                    values=\"cloud_cover\").plot.bar(figsize=(16, 6))"
   ]
  },
  {
   "cell_type": "markdown",
   "metadata": {},
   "source": [
    "### Convert HDF to single-layer GeoTIFFs\n",
    "\n",
    "**Note**: Starting from **nasa_hls** version 0.1.1 you can also convert the data to Cloud Optimized GeoTIFFs (COG). This also requires GDAL >= 3.1.\n",
    "\n",
    "To create COGs use teh option `gdal_translate_options=\"-of COG\"` in `convert_hdf2tiffs`.\n",
    "\n",
    "#### Single scene"
   ]
  },
  {
   "cell_type": "code",
   "execution_count": 8,
   "metadata": {},
   "outputs": [
    {
     "data": {
      "text/plain": [
       "PosixPath('xxx_uncontrolled_hls/geotiffs/HLS.L30.T32UNU.2018092.v1.4')"
      ]
     },
     "execution_count": 8,
     "metadata": {},
     "output_type": "execute_result"
    }
   ],
   "source": [
    "# L30\n",
    "nasa_hls.convert_hdf2tiffs(Path(\"./xxx_uncontrolled_hls/downloads/HLS.L30.T32UNU.2018092.v1.4.hdf\"), \n",
    "                           geotiff_dir,\n",
    "                           bands=None, # use this to convert only a subset of the bands\n",
    "                           max_cloud_coverage=100,  # use this to only convert scenes that have lower than specified cloud cover\n",
    "                          )"
   ]
  },
  {
   "cell_type": "code",
   "execution_count": 9,
   "metadata": {
    "scrolled": false
   },
   "outputs": [
    {
     "data": {
      "text/plain": [
       "PosixPath('xxx_uncontrolled_hls/geotiffs/HLS.S30.T32UNU.2018092.v1.4')"
      ]
     },
     "execution_count": 9,
     "metadata": {},
     "output_type": "execute_result"
    }
   ],
   "source": [
    "# S30\n",
    "nasa_hls.convert_hdf2tiffs(Path(\"./xxx_uncontrolled_hls/downloads/HLS.S30.T32UNU.2018092.v1.4.hdf\"), \n",
    "                           geotiff_dir,\n",
    "                           bands=None,\n",
    "                           max_cloud_coverage=100,\n",
    "                          )"
   ]
  },
  {
   "cell_type": "markdown",
   "metadata": {},
   "source": [
    "As a result you get all the (desired) bands in a subfolder of the destination directory.\n",
    "Note the differences between the L30 and S30 files. "
   ]
  },
  {
   "cell_type": "code",
   "execution_count": 10,
   "metadata": {},
   "outputs": [
    {
     "name": "stdout",
     "output_type": "stream",
     "text": [
      "xxx_uncontrolled_hls/geotiffs/HLS.L30.T32UNU.2018092.v1.4\n",
      "├── HLS.L30.T32UNU.2018092.v1.4__Blue.tif\n",
      "├── HLS.L30.T32UNU.2018092.v1.4__Cirrus.tif\n",
      "├── HLS.L30.T32UNU.2018092.v1.4__Coastal_Aerosol.tif\n",
      "├── HLS.L30.T32UNU.2018092.v1.4__Green.tif\n",
      "├── HLS.L30.T32UNU.2018092.v1.4__NIR.tif\n",
      "├── HLS.L30.T32UNU.2018092.v1.4__QA.tif\n",
      "├── HLS.L30.T32UNU.2018092.v1.4__Red.tif\n",
      "├── HLS.L30.T32UNU.2018092.v1.4__SWIR1.tif\n",
      "├── HLS.L30.T32UNU.2018092.v1.4__SWIR2.tif\n",
      "├── HLS.L30.T32UNU.2018092.v1.4__TIRS1.tif\n",
      "└── HLS.L30.T32UNU.2018092.v1.4__TIRS2.tif\n",
      "\n",
      "0 directories, 11 files\n",
      "xxx_uncontrolled_hls/geotiffs/HLS.S30.T32UNU.2018092.v1.4\n",
      "├── HLS.S30.T32UNU.2018092.v1.4__Blue.tif\n",
      "├── HLS.S30.T32UNU.2018092.v1.4__Cirrus.tif\n",
      "├── HLS.S30.T32UNU.2018092.v1.4__Coastal_Aerosol.tif\n",
      "├── HLS.S30.T32UNU.2018092.v1.4__Green.tif\n",
      "├── HLS.S30.T32UNU.2018092.v1.4__NIR_Broad.tif\n",
      "├── HLS.S30.T32UNU.2018092.v1.4__NIR_Narrow.tif\n",
      "├── HLS.S30.T32UNU.2018092.v1.4__QA.tif\n",
      "├── HLS.S30.T32UNU.2018092.v1.4__Red_Edge1.tif\n",
      "├── HLS.S30.T32UNU.2018092.v1.4__Red_Edge2.tif\n",
      "├── HLS.S30.T32UNU.2018092.v1.4__Red_Edge3.tif\n",
      "├── HLS.S30.T32UNU.2018092.v1.4__Red.tif\n",
      "├── HLS.S30.T32UNU.2018092.v1.4__SWIR1.tif\n",
      "├── HLS.S30.T32UNU.2018092.v1.4__SWIR2.tif\n",
      "└── HLS.S30.T32UNU.2018092.v1.4__Water_Vapor.tif\n",
      "\n",
      "0 directories, 14 files\n"
     ]
    }
   ],
   "source": [
    "%%bash\n",
    "tree xxx_uncontrolled_hls/geotiffs/HLS.L30.T32UNU.2018092.v1.4\n",
    "tree xxx_uncontrolled_hls/geotiffs/HLS.S30.T32UNU.2018092.v1.4"
   ]
  },
  {
   "cell_type": "markdown",
   "metadata": {},
   "source": [
    "#### Batch of scene"
   ]
  },
  {
   "cell_type": "code",
   "execution_count": 11,
   "metadata": {},
   "outputs": [
    {
     "name": "stderr",
     "output_type": "stream",
     "text": [
      "100%|██████████| 4/4 [00:29<00:00,  7.28s/it]\n"
     ]
    },
    {
     "data": {
      "text/plain": [
       "[PosixPath('xxx_uncontrolled_hls/geotiffs/HLS.L30.T32UNU.2018092.v1.4'),\n",
       " PosixPath('xxx_uncontrolled_hls/geotiffs/HLS.S30.T32UNU.2018092.v1.4'),\n",
       " PosixPath('xxx_uncontrolled_hls/geotiffs/HLS.L30.T32UPU.2018092.v1.4'),\n",
       " PosixPath('xxx_uncontrolled_hls/geotiffs/HLS.S30.T32UPU.2018092.v1.4')]"
      ]
     },
     "execution_count": 11,
     "metadata": {},
     "output_type": "execute_result"
    }
   ],
   "source": [
    "nasa_hls.convert_hdf2tiffs_batch(df_downloaded[df_downloaded[\"date\"]==\"2018-04-02\"][\"path\"].values,\n",
    "                                 geotiff_dir)"
   ]
  },
  {
   "cell_type": "markdown",
   "metadata": {},
   "source": [
    "### Create a clear-sky mask from the QA layer\n",
    "\n",
    "The [HLS v1.4 UserGuide](https://hls.gsfc.nasa.gov/wp-content/uploads/2019/01/HLS.v1.4.UserGuide_draft_ver3.1.pdf) helps to understanding and use the QA layer.\n",
    "\n",
    "We can read in *Appendix A. How to decode the bit-packed QA*:\n",
    "\n",
    "*Quality Assessment (QA) encoded at the bit level provides concise presentation but is less convenient for users new to this format.*\n",
    "\n",
    "This is really true especially if compare the difficulty in handling the QA layer to handling the fmask or sen2cor SCL layer layer. \n",
    "Because of that and since the masking of invalid pixels / selection of clear sky pixels is so important we will go in a bit more detail here. \n",
    "\n",
    "The rest of this section shows how to create the default mask and custom masks from the bit encoded AQ layer.  \n",
    "\n",
    "#### Sample QA layer\n",
    "\n",
    "For illustration purposes we use the QA layer of the *HLS.L30.T32UNU.2018092.v1.4* scene.\n",
    "\n",
    "From the metadata we got the following information about the HDF file:"
   ]
  },
  {
   "cell_type": "code",
   "execution_count": 12,
   "metadata": {},
   "outputs": [
    {
     "data": {
      "text/plain": [
       "cloud_cover         24\n",
       "spatial_coverage    29\n",
       "Name: HLS.L30.T32UNU.2018092.v1.4, dtype: object"
      ]
     },
     "execution_count": 12,
     "metadata": {},
     "output_type": "execute_result"
    }
   ],
   "source": [
    "df_downloaded.loc[\"HLS.L30.T32UNU.2018092.v1.4\", [\"cloud_cover\", \"spatial_coverage\"]]"
   ]
  },
  {
   "cell_type": "markdown",
   "metadata": {},
   "source": [
    "#### Understand the QA layer\n",
    "\n",
    "The metadata also gives us a *QA description*. We also find that information in the [HLS v1.4 UserGuide](https://hls.gsfc.nasa.gov/wp-content/uploads/2019/01/HLS.v1.4.UserGuide_draft_ver3.1.pdf):\n",
    "\n",
    "![title](qa_table.png)"
   ]
  },
  {
   "cell_type": "markdown",
   "metadata": {},
   "source": [
    "*Appendix A* of the [HLS v1.4 UserGuide](https://hls.gsfc.nasa.gov/wp-content/uploads/2019/01/HLS.v1.4.UserGuide_draft_ver3.1.pdf) *shows how to decode the QA bits with simple integer arithmetic*. \n",
    "Here we show a way how to do this in Python.\n",
    "\n",
    "Lets start with the example from the *Appendix A*:\n",
    "\n",
    "*Suppose we get a decimal QA value 100, which translates into binary 01100100, indicating that the aerosol level is low (bits 6-7), it is water (bit 5), and adjacent to cloud (bit 2).*\n",
    "\n",
    "#### Derive clear-sky mask from the QA layer\n",
    "\n",
    "The guide gives some advice on how to use the QA layer:\n",
    "\n",
    "*Users are advised to mask out Cirrus, Cloud and Adjacent cloud pixels.*\n",
    "\n",
    "We want to find out here, which rules have been used to calculate the cloud cover we find in in the metadata.\n",
    "There is no explicit information about the used rules.\n",
    "\n",
    "Therefore we first create a dataframe where the information of the table above is expanded for easier accessability.\n",
    "The dataframe can be created with ``get_qa_look_up_table``.\n",
    "\n",
    "It contains the QA value (i.e. the integer in the raster), the binary string and a boolean column which indicates if for a given QA value a given QA case (i.e. a row in the table above) is met."
   ]
  },
  {
   "cell_type": "code",
   "execution_count": 13,
   "metadata": {},
   "outputs": [
    {
     "data": {
      "text/html": [
       "<div>\n",
       "<style scoped>\n",
       "    .dataframe tbody tr th:only-of-type {\n",
       "        vertical-align: middle;\n",
       "    }\n",
       "\n",
       "    .dataframe tbody tr th {\n",
       "        vertical-align: top;\n",
       "    }\n",
       "\n",
       "    .dataframe thead th {\n",
       "        text-align: right;\n",
       "    }\n",
       "</style>\n",
       "<table border=\"1\" class=\"dataframe\">\n",
       "  <thead>\n",
       "    <tr style=\"text-align: right;\">\n",
       "      <th></th>\n",
       "      <th>qa_value</th>\n",
       "      <th>binary_string</th>\n",
       "      <th>a_clima</th>\n",
       "      <th>a_low</th>\n",
       "      <th>a_avg</th>\n",
       "      <th>a_high</th>\n",
       "      <th>water</th>\n",
       "      <th>snow</th>\n",
       "      <th>cloud_shadow</th>\n",
       "      <th>adj_cloud</th>\n",
       "      <th>cloud</th>\n",
       "      <th>cirrus</th>\n",
       "      <th>no_water</th>\n",
       "      <th>no_snow</th>\n",
       "      <th>no_cloud_shadow</th>\n",
       "      <th>no_adj_cloud</th>\n",
       "      <th>no_cloud</th>\n",
       "      <th>no_cirrus</th>\n",
       "    </tr>\n",
       "  </thead>\n",
       "  <tbody>\n",
       "    <tr>\n",
       "      <th>0</th>\n",
       "      <td>0</td>\n",
       "      <td>00000000</td>\n",
       "      <td>True</td>\n",
       "      <td>False</td>\n",
       "      <td>False</td>\n",
       "      <td>False</td>\n",
       "      <td>False</td>\n",
       "      <td>False</td>\n",
       "      <td>False</td>\n",
       "      <td>False</td>\n",
       "      <td>False</td>\n",
       "      <td>False</td>\n",
       "      <td>True</td>\n",
       "      <td>True</td>\n",
       "      <td>True</td>\n",
       "      <td>True</td>\n",
       "      <td>True</td>\n",
       "      <td>True</td>\n",
       "    </tr>\n",
       "    <tr>\n",
       "      <th>1</th>\n",
       "      <td>1</td>\n",
       "      <td>00000001</td>\n",
       "      <td>True</td>\n",
       "      <td>False</td>\n",
       "      <td>False</td>\n",
       "      <td>False</td>\n",
       "      <td>False</td>\n",
       "      <td>False</td>\n",
       "      <td>False</td>\n",
       "      <td>False</td>\n",
       "      <td>False</td>\n",
       "      <td>True</td>\n",
       "      <td>True</td>\n",
       "      <td>True</td>\n",
       "      <td>True</td>\n",
       "      <td>True</td>\n",
       "      <td>True</td>\n",
       "      <td>False</td>\n",
       "    </tr>\n",
       "    <tr>\n",
       "      <th>2</th>\n",
       "      <td>2</td>\n",
       "      <td>00000010</td>\n",
       "      <td>True</td>\n",
       "      <td>False</td>\n",
       "      <td>False</td>\n",
       "      <td>False</td>\n",
       "      <td>False</td>\n",
       "      <td>False</td>\n",
       "      <td>False</td>\n",
       "      <td>False</td>\n",
       "      <td>True</td>\n",
       "      <td>False</td>\n",
       "      <td>True</td>\n",
       "      <td>True</td>\n",
       "      <td>True</td>\n",
       "      <td>True</td>\n",
       "      <td>False</td>\n",
       "      <td>True</td>\n",
       "    </tr>\n",
       "    <tr>\n",
       "      <th>3</th>\n",
       "      <td>3</td>\n",
       "      <td>00000011</td>\n",
       "      <td>True</td>\n",
       "      <td>False</td>\n",
       "      <td>False</td>\n",
       "      <td>False</td>\n",
       "      <td>False</td>\n",
       "      <td>False</td>\n",
       "      <td>False</td>\n",
       "      <td>False</td>\n",
       "      <td>True</td>\n",
       "      <td>True</td>\n",
       "      <td>True</td>\n",
       "      <td>True</td>\n",
       "      <td>True</td>\n",
       "      <td>True</td>\n",
       "      <td>False</td>\n",
       "      <td>False</td>\n",
       "    </tr>\n",
       "    <tr>\n",
       "      <th>4</th>\n",
       "      <td>4</td>\n",
       "      <td>00000100</td>\n",
       "      <td>True</td>\n",
       "      <td>False</td>\n",
       "      <td>False</td>\n",
       "      <td>False</td>\n",
       "      <td>False</td>\n",
       "      <td>False</td>\n",
       "      <td>False</td>\n",
       "      <td>True</td>\n",
       "      <td>False</td>\n",
       "      <td>False</td>\n",
       "      <td>True</td>\n",
       "      <td>True</td>\n",
       "      <td>True</td>\n",
       "      <td>False</td>\n",
       "      <td>True</td>\n",
       "      <td>True</td>\n",
       "    </tr>\n",
       "  </tbody>\n",
       "</table>\n",
       "</div>"
      ],
      "text/plain": [
       "   qa_value binary_string  a_clima  a_low  a_avg  a_high  water   snow  \\\n",
       "0         0      00000000     True  False  False   False  False  False   \n",
       "1         1      00000001     True  False  False   False  False  False   \n",
       "2         2      00000010     True  False  False   False  False  False   \n",
       "3         3      00000011     True  False  False   False  False  False   \n",
       "4         4      00000100     True  False  False   False  False  False   \n",
       "\n",
       "   cloud_shadow  adj_cloud  cloud  cirrus  no_water  no_snow  no_cloud_shadow  \\\n",
       "0         False      False  False   False      True     True             True   \n",
       "1         False      False  False    True      True     True             True   \n",
       "2         False      False   True   False      True     True             True   \n",
       "3         False      False   True    True      True     True             True   \n",
       "4         False       True  False   False      True     True             True   \n",
       "\n",
       "   no_adj_cloud  no_cloud  no_cirrus  \n",
       "0          True      True       True  \n",
       "1          True      True      False  \n",
       "2          True     False       True  \n",
       "3          True     False      False  \n",
       "4         False      True       True  "
      ]
     },
     "metadata": {},
     "output_type": "display_data"
    },
    {
     "data": {
      "text/html": [
       "<div>\n",
       "<style scoped>\n",
       "    .dataframe tbody tr th:only-of-type {\n",
       "        vertical-align: middle;\n",
       "    }\n",
       "\n",
       "    .dataframe tbody tr th {\n",
       "        vertical-align: top;\n",
       "    }\n",
       "\n",
       "    .dataframe thead th {\n",
       "        text-align: right;\n",
       "    }\n",
       "</style>\n",
       "<table border=\"1\" class=\"dataframe\">\n",
       "  <thead>\n",
       "    <tr style=\"text-align: right;\">\n",
       "      <th></th>\n",
       "      <th>qa_value</th>\n",
       "      <th>binary_string</th>\n",
       "      <th>a_clima</th>\n",
       "      <th>a_low</th>\n",
       "      <th>a_avg</th>\n",
       "      <th>a_high</th>\n",
       "      <th>water</th>\n",
       "      <th>snow</th>\n",
       "      <th>cloud_shadow</th>\n",
       "      <th>adj_cloud</th>\n",
       "      <th>cloud</th>\n",
       "      <th>cirrus</th>\n",
       "      <th>no_water</th>\n",
       "      <th>no_snow</th>\n",
       "      <th>no_cloud_shadow</th>\n",
       "      <th>no_adj_cloud</th>\n",
       "      <th>no_cloud</th>\n",
       "      <th>no_cirrus</th>\n",
       "    </tr>\n",
       "  </thead>\n",
       "  <tbody>\n",
       "    <tr>\n",
       "      <th>251</th>\n",
       "      <td>251</td>\n",
       "      <td>11111011</td>\n",
       "      <td>False</td>\n",
       "      <td>False</td>\n",
       "      <td>False</td>\n",
       "      <td>True</td>\n",
       "      <td>True</td>\n",
       "      <td>True</td>\n",
       "      <td>True</td>\n",
       "      <td>False</td>\n",
       "      <td>True</td>\n",
       "      <td>True</td>\n",
       "      <td>False</td>\n",
       "      <td>False</td>\n",
       "      <td>False</td>\n",
       "      <td>True</td>\n",
       "      <td>False</td>\n",
       "      <td>False</td>\n",
       "    </tr>\n",
       "    <tr>\n",
       "      <th>252</th>\n",
       "      <td>252</td>\n",
       "      <td>11111100</td>\n",
       "      <td>False</td>\n",
       "      <td>False</td>\n",
       "      <td>False</td>\n",
       "      <td>True</td>\n",
       "      <td>True</td>\n",
       "      <td>True</td>\n",
       "      <td>True</td>\n",
       "      <td>True</td>\n",
       "      <td>False</td>\n",
       "      <td>False</td>\n",
       "      <td>False</td>\n",
       "      <td>False</td>\n",
       "      <td>False</td>\n",
       "      <td>False</td>\n",
       "      <td>True</td>\n",
       "      <td>True</td>\n",
       "    </tr>\n",
       "    <tr>\n",
       "      <th>253</th>\n",
       "      <td>253</td>\n",
       "      <td>11111101</td>\n",
       "      <td>False</td>\n",
       "      <td>False</td>\n",
       "      <td>False</td>\n",
       "      <td>True</td>\n",
       "      <td>True</td>\n",
       "      <td>True</td>\n",
       "      <td>True</td>\n",
       "      <td>True</td>\n",
       "      <td>False</td>\n",
       "      <td>True</td>\n",
       "      <td>False</td>\n",
       "      <td>False</td>\n",
       "      <td>False</td>\n",
       "      <td>False</td>\n",
       "      <td>True</td>\n",
       "      <td>False</td>\n",
       "    </tr>\n",
       "    <tr>\n",
       "      <th>254</th>\n",
       "      <td>254</td>\n",
       "      <td>11111110</td>\n",
       "      <td>False</td>\n",
       "      <td>False</td>\n",
       "      <td>False</td>\n",
       "      <td>True</td>\n",
       "      <td>True</td>\n",
       "      <td>True</td>\n",
       "      <td>True</td>\n",
       "      <td>True</td>\n",
       "      <td>True</td>\n",
       "      <td>False</td>\n",
       "      <td>False</td>\n",
       "      <td>False</td>\n",
       "      <td>False</td>\n",
       "      <td>False</td>\n",
       "      <td>False</td>\n",
       "      <td>True</td>\n",
       "    </tr>\n",
       "    <tr>\n",
       "      <th>255</th>\n",
       "      <td>255</td>\n",
       "      <td>11111111</td>\n",
       "      <td>False</td>\n",
       "      <td>False</td>\n",
       "      <td>False</td>\n",
       "      <td>True</td>\n",
       "      <td>True</td>\n",
       "      <td>True</td>\n",
       "      <td>True</td>\n",
       "      <td>True</td>\n",
       "      <td>True</td>\n",
       "      <td>True</td>\n",
       "      <td>False</td>\n",
       "      <td>False</td>\n",
       "      <td>False</td>\n",
       "      <td>False</td>\n",
       "      <td>False</td>\n",
       "      <td>False</td>\n",
       "    </tr>\n",
       "  </tbody>\n",
       "</table>\n",
       "</div>"
      ],
      "text/plain": [
       "     qa_value binary_string  a_clima  a_low  a_avg  a_high  water  snow  \\\n",
       "251       251      11111011    False  False  False    True   True  True   \n",
       "252       252      11111100    False  False  False    True   True  True   \n",
       "253       253      11111101    False  False  False    True   True  True   \n",
       "254       254      11111110    False  False  False    True   True  True   \n",
       "255       255      11111111    False  False  False    True   True  True   \n",
       "\n",
       "     cloud_shadow  adj_cloud  cloud  cirrus  no_water  no_snow  \\\n",
       "251          True      False   True    True     False    False   \n",
       "252          True       True  False   False     False    False   \n",
       "253          True       True  False    True     False    False   \n",
       "254          True       True   True   False     False    False   \n",
       "255          True       True   True    True     False    False   \n",
       "\n",
       "     no_cloud_shadow  no_adj_cloud  no_cloud  no_cirrus  \n",
       "251            False          True     False      False  \n",
       "252            False         False      True       True  \n",
       "253            False         False      True      False  \n",
       "254            False         False     False       True  \n",
       "255            False         False     False      False  "
      ]
     },
     "metadata": {},
     "output_type": "display_data"
    }
   ],
   "source": [
    "lut_qa = nasa_hls.get_qa_look_up_table()\n",
    "display(lut_qa.head())\n",
    "display(lut_qa.tail())"
   ]
  },
  {
   "cell_type": "markdown",
   "metadata": {},
   "source": [
    "Based on that dataframe it is easy to get the QA integer values for creating a specific mask from it."
   ]
  },
  {
   "cell_type": "markdown",
   "metadata": {},
   "source": [
    "##### Find masking rules resulting in metadata cloud cover\n",
    "\n",
    "As an example let us see if we can calculate the cloud cover from the QA layer by finding the right QA attributes to be masked.\n",
    "\n",
    "Let's get the QA values of the sample scene."
   ]
  },
  {
   "cell_type": "code",
   "execution_count": 14,
   "metadata": {},
   "outputs": [],
   "source": [
    "qa_path = './xxx_uncontrolled_hls/geotiffs/HLS.L30.T32UNU.2018092.v1.4/HLS.L30.T32UNU.2018092.v1.4__QA.tif'\n",
    "with rasterio.open(qa_path) as qa:\n",
    "    meta = qa.meta\n",
    "    qa_array = qa.read()"
   ]
  },
  {
   "cell_type": "markdown",
   "metadata": {},
   "source": [
    "Let's first visualize the distribution of the values:"
   ]
  },
  {
   "cell_type": "code",
   "execution_count": 15,
   "metadata": {},
   "outputs": [
    {
     "name": "stdout",
     "output_type": "stream",
     "text": [
      "number of observations (not 255) : 3930335\n"
     ]
    },
    {
     "data": {
      "text/plain": [
       "<matplotlib.axes._subplots.AxesSubplot at 0x7f5f7029ee50>"
      ]
     },
     "execution_count": 15,
     "metadata": {},
     "output_type": "execute_result"
    },
    {
     "data": {
      "image/png": "[encoded data removed]",
      "text/plain": [
       "<Figure size 1296x432 with 1 Axes>"
      ]
     },
     "metadata": {
      "needs_background": "light"
     },
     "output_type": "display_data"
    }
   ],
   "source": [
    "qa_counts = pd.DataFrame(np.unique(qa_array), columns=[\"integer\"])\n",
    "qa_counts[\"binary\"] = qa_counts.integer.apply(lambda i: \"{0:08b}\".format(i))\n",
    "qa_counts[\"counts\"] = qa_counts.integer.apply(lambda i: (qa_array == i).sum())\n",
    "\n",
    "n_pix = qa_counts[\"counts\"].sum()\n",
    "n_obs = qa_counts[qa_counts[\"integer\"] != 255].counts.sum()\n",
    "print(\"number of observations (not 255) :\", n_obs)\n",
    "qa_counts.plot.bar(x=\"binary\", y=\"counts\", logy=True, figsize=(18, 6))"
   ]
  },
  {
   "cell_type": "markdown",
   "metadata": {},
   "source": [
    "Let's also calculate the percentage of pixels with respect to all pixels and with respect to the observed pixels (i.e. not 255):"
   ]
  },
  {
   "cell_type": "code",
   "execution_count": 16,
   "metadata": {},
   "outputs": [
    {
     "data": {
      "text/html": [
       "<div>\n",
       "<style scoped>\n",
       "    .dataframe tbody tr th:only-of-type {\n",
       "        vertical-align: middle;\n",
       "    }\n",
       "\n",
       "    .dataframe tbody tr th {\n",
       "        vertical-align: top;\n",
       "    }\n",
       "\n",
       "    .dataframe thead th {\n",
       "        text-align: right;\n",
       "    }\n",
       "</style>\n",
       "<table border=\"1\" class=\"dataframe\">\n",
       "  <thead>\n",
       "    <tr style=\"text-align: right;\">\n",
       "      <th></th>\n",
       "      <th>integer</th>\n",
       "      <th>binary</th>\n",
       "      <th>counts</th>\n",
       "      <th>percent</th>\n",
       "      <th>percent_obs</th>\n",
       "    </tr>\n",
       "  </thead>\n",
       "  <tbody>\n",
       "    <tr>\n",
       "      <th>19</th>\n",
       "      <td>128</td>\n",
       "      <td>10000000</td>\n",
       "      <td>1389745</td>\n",
       "      <td>10.37</td>\n",
       "      <td>35.36</td>\n",
       "    </tr>\n",
       "    <tr>\n",
       "      <th>42</th>\n",
       "      <td>192</td>\n",
       "      <td>11000000</td>\n",
       "      <td>991982</td>\n",
       "      <td>7.41</td>\n",
       "      <td>25.24</td>\n",
       "    </tr>\n",
       "    <tr>\n",
       "      <th>0</th>\n",
       "      <td>64</td>\n",
       "      <td>01000000</td>\n",
       "      <td>535713</td>\n",
       "      <td>4.00</td>\n",
       "      <td>13.63</td>\n",
       "    </tr>\n",
       "    <tr>\n",
       "      <th>43</th>\n",
       "      <td>193</td>\n",
       "      <td>11000001</td>\n",
       "      <td>228818</td>\n",
       "      <td>1.71</td>\n",
       "      <td>5.82</td>\n",
       "    </tr>\n",
       "    <tr>\n",
       "      <th>45</th>\n",
       "      <td>195</td>\n",
       "      <td>11000011</td>\n",
       "      <td>185779</td>\n",
       "      <td>1.39</td>\n",
       "      <td>4.73</td>\n",
       "    </tr>\n",
       "    <tr>\n",
       "      <th>44</th>\n",
       "      <td>194</td>\n",
       "      <td>11000010</td>\n",
       "      <td>170090</td>\n",
       "      <td>1.27</td>\n",
       "      <td>4.33</td>\n",
       "    </tr>\n",
       "    <tr>\n",
       "      <th>27</th>\n",
       "      <td>136</td>\n",
       "      <td>10001000</td>\n",
       "      <td>79370</td>\n",
       "      <td>0.59</td>\n",
       "      <td>2.02</td>\n",
       "    </tr>\n",
       "    <tr>\n",
       "      <th>50</th>\n",
       "      <td>200</td>\n",
       "      <td>11001000</td>\n",
       "      <td>57441</td>\n",
       "      <td>0.43</td>\n",
       "      <td>1.46</td>\n",
       "    </tr>\n",
       "    <tr>\n",
       "      <th>51</th>\n",
       "      <td>201</td>\n",
       "      <td>11001001</td>\n",
       "      <td>53104</td>\n",
       "      <td>0.40</td>\n",
       "      <td>1.35</td>\n",
       "    </tr>\n",
       "    <tr>\n",
       "      <th>23</th>\n",
       "      <td>132</td>\n",
       "      <td>10000100</td>\n",
       "      <td>44661</td>\n",
       "      <td>0.33</td>\n",
       "      <td>1.14</td>\n",
       "    </tr>\n",
       "    <tr>\n",
       "      <th>53</th>\n",
       "      <td>203</td>\n",
       "      <td>11001011</td>\n",
       "      <td>38433</td>\n",
       "      <td>0.29</td>\n",
       "      <td>0.98</td>\n",
       "    </tr>\n",
       "    <tr>\n",
       "      <th>49</th>\n",
       "      <td>199</td>\n",
       "      <td>11000111</td>\n",
       "      <td>28472</td>\n",
       "      <td>0.21</td>\n",
       "      <td>0.72</td>\n",
       "    </tr>\n",
       "    <tr>\n",
       "      <th>52</th>\n",
       "      <td>202</td>\n",
       "      <td>11001010</td>\n",
       "      <td>28155</td>\n",
       "      <td>0.21</td>\n",
       "      <td>0.72</td>\n",
       "    </tr>\n",
       "    <tr>\n",
       "      <th>46</th>\n",
       "      <td>196</td>\n",
       "      <td>11000100</td>\n",
       "      <td>26763</td>\n",
       "      <td>0.20</td>\n",
       "      <td>0.68</td>\n",
       "    </tr>\n",
       "    <tr>\n",
       "      <th>8</th>\n",
       "      <td>72</td>\n",
       "      <td>01001000</td>\n",
       "      <td>18869</td>\n",
       "      <td>0.14</td>\n",
       "      <td>0.48</td>\n",
       "    </tr>\n",
       "    <tr>\n",
       "      <th>4</th>\n",
       "      <td>68</td>\n",
       "      <td>01000100</td>\n",
       "      <td>10947</td>\n",
       "      <td>0.08</td>\n",
       "      <td>0.28</td>\n",
       "    </tr>\n",
       "    <tr>\n",
       "      <th>28</th>\n",
       "      <td>137</td>\n",
       "      <td>10001001</td>\n",
       "      <td>7772</td>\n",
       "      <td>0.06</td>\n",
       "      <td>0.20</td>\n",
       "    </tr>\n",
       "    <tr>\n",
       "      <th>20</th>\n",
       "      <td>129</td>\n",
       "      <td>10000001</td>\n",
       "      <td>7303</td>\n",
       "      <td>0.05</td>\n",
       "      <td>0.19</td>\n",
       "    </tr>\n",
       "    <tr>\n",
       "      <th>47</th>\n",
       "      <td>197</td>\n",
       "      <td>11000101</td>\n",
       "      <td>5277</td>\n",
       "      <td>0.04</td>\n",
       "      <td>0.13</td>\n",
       "    </tr>\n",
       "    <tr>\n",
       "      <th>48</th>\n",
       "      <td>198</td>\n",
       "      <td>11000110</td>\n",
       "      <td>5087</td>\n",
       "      <td>0.04</td>\n",
       "      <td>0.13</td>\n",
       "    </tr>\n",
       "    <tr>\n",
       "      <th>25</th>\n",
       "      <td>134</td>\n",
       "      <td>10000110</td>\n",
       "      <td>4114</td>\n",
       "      <td>0.03</td>\n",
       "      <td>0.10</td>\n",
       "    </tr>\n",
       "    <tr>\n",
       "      <th>57</th>\n",
       "      <td>207</td>\n",
       "      <td>11001111</td>\n",
       "      <td>1991</td>\n",
       "      <td>0.01</td>\n",
       "      <td>0.05</td>\n",
       "    </tr>\n",
       "  </tbody>\n",
       "</table>\n",
       "</div>"
      ],
      "text/plain": [
       "    integer    binary   counts  percent  percent_obs\n",
       "19      128  10000000  1389745    10.37        35.36\n",
       "42      192  11000000   991982     7.41        25.24\n",
       "0        64  01000000   535713     4.00        13.63\n",
       "43      193  11000001   228818     1.71         5.82\n",
       "45      195  11000011   185779     1.39         4.73\n",
       "44      194  11000010   170090     1.27         4.33\n",
       "27      136  10001000    79370     0.59         2.02\n",
       "50      200  11001000    57441     0.43         1.46\n",
       "51      201  11001001    53104     0.40         1.35\n",
       "23      132  10000100    44661     0.33         1.14\n",
       "53      203  11001011    38433     0.29         0.98\n",
       "49      199  11000111    28472     0.21         0.72\n",
       "52      202  11001010    28155     0.21         0.72\n",
       "46      196  11000100    26763     0.20         0.68\n",
       "8        72  01001000    18869     0.14         0.48\n",
       "4        68  01000100    10947     0.08         0.28\n",
       "28      137  10001001     7772     0.06         0.20\n",
       "20      129  10000001     7303     0.05         0.19\n",
       "47      197  11000101     5277     0.04         0.13\n",
       "48      198  11000110     5087     0.04         0.13\n",
       "25      134  10000110     4114     0.03         0.10\n",
       "57      207  11001111     1991     0.01         0.05"
      ]
     },
     "execution_count": 16,
     "metadata": {},
     "output_type": "execute_result"
    }
   ],
   "source": [
    "qa_counts[\"percent\"] = ((qa_counts[\"counts\"] / n_pix) * 100).round(2)\n",
    "qa_counts[\"percent_obs\"] = ((qa_counts[\"counts\"] / n_obs) * 100).round(2)\n",
    "qa_counts.loc[qa_counts[\"integer\"] == 255, \"percent_obs\"] = -0.01\n",
    "qa_counts.tail()\n",
    "\n",
    "qa_counts_top_22 = qa_counts.sort_values(\"percent_obs\", ascending=False).head(22)\n",
    "qa_counts_top_22"
   ]
  },
  {
   "cell_type": "code",
   "execution_count": 17,
   "metadata": {},
   "outputs": [
    {
     "data": {
      "text/plain": [
       "cloud_cover         24\n",
       "spatial_coverage    29\n",
       "Name: HLS.L30.T32UNU.2018092.v1.4, dtype: object"
      ]
     },
     "execution_count": 17,
     "metadata": {},
     "output_type": "execute_result"
    }
   ],
   "source": [
    "df_downloaded.loc[\"HLS.L30.T32UNU.2018092.v1.4\", [\"cloud_cover\", \"spatial_coverage\"]]"
   ]
  },
  {
   "cell_type": "markdown",
   "metadata": {},
   "source": [
    "**Spatial coverage**"
   ]
  },
  {
   "cell_type": "code",
   "execution_count": 18,
   "metadata": {},
   "outputs": [
    {
     "name": "stdout",
     "output_type": "stream",
     "text": [
      "spatial coverage from QA:  29.340000000000003\n"
     ]
    }
   ],
   "source": [
    "print(\"spatial coverage from QA: \", 100 - qa_counts.loc[qa_counts[\"integer\"] == 255, \"percent\"].values[0])"
   ]
  },
  {
   "cell_type": "markdown",
   "metadata": {},
   "source": [
    "**Cloud cover**\n",
    "\n",
    "I could not find in the docs how the AQ layer was used to calculate the cloud cover.\n",
    "\n",
    "With the percentages in ``qa_counts`` and the ``lut_qa`` dataframe it is now easy to see how different masking decisions influence the percentage of masked pixels for a given QA layer.\n",
    "\n",
    "The following shows my guesses to find a match for a cloud cover of 24 %."
   ]
  },
  {
   "cell_type": "code",
   "execution_count": 19,
   "metadata": {},
   "outputs": [
    {
     "data": {
      "text/plain": [
       "21.810000000000002"
      ]
     },
     "execution_count": 19,
     "metadata": {},
     "output_type": "execute_result"
    }
   ],
   "source": [
    "valid = lut_qa.loc[\n",
    "        ~((lut_qa.cirrus) | (lut_qa.cloud) | (lut_qa.adj_cloud)), \"qa_value\"\n",
    "    ].values\n",
    "percent_valid = qa_counts.loc[qa_counts.integer.isin(valid), \"percent_obs\"].sum()\n",
    "100 - percent_valid"
   ]
  },
  {
   "cell_type": "code",
   "execution_count": 20,
   "metadata": {},
   "outputs": [
    {
     "data": {
      "text/plain": [
       "19.75999999999999"
      ]
     },
     "execution_count": 20,
     "metadata": {},
     "output_type": "execute_result"
    }
   ],
   "source": [
    "valid = lut_qa.loc[\n",
    "        ~((lut_qa.cloud) | (lut_qa.adj_cloud) | (lut_qa.cloud_shadow)), \"qa_value\"\n",
    "    ].values # => 19.8 \n",
    "percent_valid = qa_counts.loc[qa_counts.integer.isin(valid), \"percent_obs\"].sum()\n",
    "100 - percent_valid"
   ]
  },
  {
   "cell_type": "code",
   "execution_count": 21,
   "metadata": {},
   "outputs": [
    {
     "data": {
      "text/plain": [
       "25.769999999999996"
      ]
     },
     "execution_count": 21,
     "metadata": {},
     "output_type": "execute_result"
    }
   ],
   "source": [
    "valid = lut_qa.loc[\n",
    "        ~((lut_qa.cirrus) | (lut_qa.cloud) | (lut_qa.adj_cloud) | (lut_qa.cloud_shadow)), \"qa_value\"\n",
    "    ].values # => 25.8\n",
    "percent_valid = qa_counts.loc[qa_counts.integer.isin(valid), \"percent_obs\"].sum()\n",
    "100 - percent_valid"
   ]
  },
  {
   "cell_type": "code",
   "execution_count": 22,
   "metadata": {},
   "outputs": [
    {
     "data": {
      "text/plain": [
       "23.67"
      ]
     },
     "execution_count": 22,
     "metadata": {},
     "output_type": "execute_result"
    }
   ],
   "source": [
    "valid = lut_qa.loc[\n",
    "        ~((lut_qa.cirrus) | (lut_qa.cloud) | (lut_qa.cloud_shadow)), \"qa_value\"\n",
    "    ].values # => 23.7\n",
    "percent_valid = qa_counts.loc[qa_counts.integer.isin(valid), \"percent_obs\"].sum()\n",
    "100 - percent_valid"
   ]
  },
  {
   "cell_type": "markdown",
   "metadata": {},
   "source": [
    "The winner is: cirrus, cloud and cloud shadow, which somehow makes sense.\n",
    "\n",
    "That means that we consider the following QA values as clear sky or valid pixels:"
   ]
  },
  {
   "cell_type": "code",
   "execution_count": 23,
   "metadata": {},
   "outputs": [
    {
     "data": {
      "text/plain": [
       "array([  0,   4,  16,  20,  32,  36,  48,  52,  64,  68,  80,  84,  96,\n",
       "       100, 112, 116, 128, 132, 144, 148, 160, 164, 176, 180, 192, 196,\n",
       "       208, 212, 224, 228, 240, 244])"
      ]
     },
     "execution_count": 23,
     "metadata": {},
     "output_type": "execute_result"
    }
   ],
   "source": [
    "valid"
   ]
  },
  {
   "cell_type": "markdown",
   "metadata": {},
   "source": [
    "##### Convert the QA layer into a mask  \n",
    "\n",
    "Given we know the QA values that we want to consider as valid or invalid pixels we can derive a mask array or GeoTIFF from a GeoTIFF QA layer.\n",
    "\n",
    "Here we use the function ``hls_qa_layer_to_mask`` to quickly test if the masking with the valid values give us the same cloud cover as the mateadata.\n",
    "\n",
    "Note that you have the following additional options:\n",
    "\n",
    "* ``keep_255`` (bool): If ``True`` this keeps the value 255 for the non sensed pixels.\n",
    "* ``mask_path`` (str): If a path is given the function will create a raster of the mask there and not output an array.\n",
    "* ``overwrite`` (bool): Defines if a file existing at ``mask_path`` should be overwritten. \n"
   ]
  },
  {
   "cell_type": "code",
   "execution_count": 24,
   "metadata": {},
   "outputs": [
    {
     "name": "stdout",
     "output_type": "stream",
     "text": [
      "******************************************************************************************\n",
      "xxx_uncontrolled_hls/geotiffs/HLS.L30.T32UNU.2018092.v1.4/HLS.L30.T32UNU.2018092.v1.4__QA.tif\n",
      "Number of pixels             : 13395600\n",
      "Number of obs.               : 3930335\n",
      "Number of clear obs.         : 2999963\n",
      "Number of cloudy obs.        : 930372\n",
      "Cloud cover - metadata       : 24.0\n",
      "Cloud cover - calculated     : 23.7\n",
      "Spatial coverage - metadata  : 29.0\n",
      "Spatial coverage - calculated: 29.3\n",
      "******************************************************************************************\n",
      "xxx_uncontrolled_hls/geotiffs/HLS.S30.T32UNU.2018092.v1.4/HLS.S30.T32UNU.2018092.v1.4__QA.tif\n",
      "Number of pixels             : 13395600\n",
      "Number of obs.               : 13272703\n",
      "Number of clear obs.         : 1976262\n",
      "Number of cloudy obs.        : 11296441\n",
      "Cloud cover - metadata       : 85.0\n",
      "Cloud cover - calculated     : 85.1\n",
      "Spatial coverage - metadata  : 100.0\n",
      "Spatial coverage - calculated: 99.1\n",
      "******************************************************************************************\n",
      "xxx_uncontrolled_hls/geotiffs/HLS.L30.T32UPU.2018092.v1.4/HLS.L30.T32UPU.2018092.v1.4__QA.tif\n",
      "Number of pixels             : 13395600\n",
      "Number of obs.               : 13395365\n",
      "Number of clear obs.         : 11980540\n",
      "Number of cloudy obs.        : 1414825\n",
      "Cloud cover - metadata       : 11.0\n",
      "Cloud cover - calculated     : 10.6\n",
      "Spatial coverage - metadata  : 100.0\n",
      "Spatial coverage - calculated: 100.0\n",
      "******************************************************************************************\n",
      "xxx_uncontrolled_hls/geotiffs/HLS.S30.T32UPU.2018092.v1.4/HLS.S30.T32UPU.2018092.v1.4__QA.tif\n",
      "Number of pixels             : 13395600\n",
      "Number of obs.               : 12915488\n",
      "Number of clear obs.         : 4495212\n",
      "Number of cloudy obs.        : 8420276\n",
      "Cloud cover - metadata       : 66.0\n",
      "Cloud cover - calculated     : 65.2\n",
      "Spatial coverage - metadata  : 100.0\n",
      "Spatial coverage - calculated: 96.4\n"
     ]
    }
   ],
   "source": [
    "for i, row in df_downloaded.iterrows():\n",
    "    sceneid = Path(row.path).stem\n",
    "    qa_path = f'xxx_uncontrolled_hls/geotiffs/{sceneid}/{sceneid}__QA.tif'\n",
    "    if not Path(qa_path).exists():\n",
    "        continue\n",
    "    \n",
    "    clear_arr = nasa_hls.hls_qa_layer_to_mask(qa_path, \n",
    "                                              qa_valid=valid, \n",
    "                                              keep_255=True,\n",
    "                                              mask_path=None, \n",
    "                                              overwrite=False)\n",
    "    n_pix = clear_arr.size\n",
    "    n_obs = (clear_arr != 255).sum()\n",
    "    n_cloudy = (clear_arr == 0).sum()\n",
    "    n_clear = (clear_arr == 1).sum()\n",
    "    cloud_cover = n_cloudy / (n_clear + n_cloudy)\n",
    "\n",
    "    print(\"*\" * 90)\n",
    "    print(qa_path)\n",
    "    print(f\"Number of pixels             : {n_pix}\")\n",
    "    print(f\"Number of obs.               : {n_obs}\")\n",
    "    print(f\"Number of clear obs.         : {n_clear}\")\n",
    "    print(f\"Number of cloudy obs.        : {n_cloudy}\")\n",
    "    \n",
    "    print(f\"Cloud cover - metadata       : {row.cloud_cover}\")\n",
    "    print(f\"Cloud cover - calculated     : {round(cloud_cover * 100, 1) }\")\n",
    "    \n",
    "    print(f\"Spatial coverage - metadata  : {row.spatial_coverage}\")\n",
    "    print(f\"Spatial coverage - calculated: {round((n_obs / n_pix) * 100, 1) }\")"
   ]
  },
  {
   "cell_type": "markdown",
   "metadata": {},
   "source": [
    "**!!! NOTE AND WARNING !!!**\n",
    "\n",
    "**There are some small irregularities between the metadata and the calculated values that should be investigated further.**\n",
    "\n",
    "**Feel free to do so... (;**\n",
    "\n",
    "##### Visualize the mask"
   ]
  },
  {
   "cell_type": "code",
   "execution_count": 25,
   "metadata": {},
   "outputs": [
    {
     "data": {
      "image/png": "[encoded data removed]",
      "text/plain": [
       "<Figure size 1152x576 with 3 Axes>"
      ]
     },
     "metadata": {
      "needs_background": "light"
     },
     "output_type": "display_data"
    }
   ],
   "source": [
    "sceneid = \"HLS.L30.T32UNU.2018092.v1.4\"\n",
    "src_nir = rasterio.open(f'xxx_uncontrolled_hls/geotiffs/{sceneid}/{sceneid}__NIR.tif')\n",
    "src_qa = rasterio.open(f'xxx_uncontrolled_hls/geotiffs/{sceneid}/{sceneid}__QA.tif')\n",
    "qa_path = f'xxx_uncontrolled_hls/geotiffs/{sceneid}/{sceneid}__QA.tif'\n",
    "\n",
    "clear_arr = nasa_hls.hls_qa_layer_to_mask(qa_path, \n",
    "                                          qa_valid=valid, \n",
    "                                          keep_255=True,\n",
    "                                          mask_path=None, \n",
    "                                          overwrite=False)\n",
    "\n",
    "fig, axes = plt.subplots(1, 3, figsize=(16, 8))\n",
    "\n",
    "axes[0].imshow(src_nir.read(1), vmin=0, vmax=6000, cmap='pink')\n",
    "axes[0].set_title(sceneid + \" - \" + \"NIR\")\n",
    "axes[1].imshow(src_qa.read(1), vmin=0, vmax=255, cmap='pink')\n",
    "axes[1].set_title(sceneid + \" - \" + \"QA\")\n",
    "axes[2].imshow(clear_arr, vmin=0, vmax=3, cmap='pink')\n",
    "axes[2].set_title(sceneid + \" - \" + \"clear\")\n",
    "fig.tight_layout()"
   ]
  }
 ],
 "metadata": {
  "kernelspec": {
   "display_name": "Python 3",
   "language": "python",
   "name": "python3"
  },
  "language_info": {
   "codemirror_mode": {
    "name": "ipython",
    "version": 3
   },
   "file_extension": ".py",
   "mimetype": "text/x-python",
   "name": "python",
   "nbconvert_exporter": "python",
   "pygments_lexer": "ipython3",
   "version": "3.8.2"
  }
 },
 "nbformat": 4,
 "nbformat_minor": 2
}
