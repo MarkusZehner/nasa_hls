{
 "cells": [
  {
   "cell_type": "markdown",
   "source": [
    "# Test Environment: Nasa_hls\n",
    "import the functions"
   ],
   "metadata": {
    "collapsed": false
   }
  },
  {
   "cell_type": "code",
   "execution_count": 2,
   "outputs": [
    {
     "name": "stdout",
     "text": [
      "UTM tiles already successfully downloaded to:\n",
      " C:\\Users\\haken\\.nasa_hls\\.auxdata\\utm.kml \n",
      "\n"
     ],
     "output_type": "stream"
    },
    {
     "data": {
      "text/plain": "'C:\\\\Users\\\\haken\\\\.nasa_hls\\\\.auxdata\\\\utm.kml'"
     },
     "metadata": {},
     "output_type": "execute_result",
     "execution_count": 2
    }
   ],
   "source": [
    "from nasa_hls.download_tiles import download_kml\n",
    "from nasa_hls.download_tiles import get_available_datasets_from_shape\n",
    "from nasa_hls.download_tiles import path_data_win_konsti\n",
    "from nasa_hls.download_tiles import make_tiles_dataset\n",
    "\n",
    "download_kml()\n",
    "\n",
    "##\n",
    "ds_date = make_tiles_dataset(shape=path_data_win_konsti + \"dummy_region.shp\",\n",
    "                             products=\"L30\")\n"
   ],
   "metadata": {
    "collapsed": false,
    "pycharm": {
     "name": "#%%\n",
     "is_executing": false
    }
   }
  }
 ],
 "metadata": {
  "kernelspec": {
   "display_name": "Python 3",
   "language": "python",
   "name": "python3"
  },
  "language_info": {
   "codemirror_mode": {
    "name": "ipython",
    "version": 2
   },
   "file_extension": ".py",
   "mimetype": "text/x-python",
   "name": "python",
   "nbconvert_exporter": "python",
   "pygments_lexer": "ipython2",
   "version": "2.7.6"
  },
  "pycharm": {
   "stem_cell": {
    "cell_type": "raw",
    "source": [],
    "metadata": {
     "collapsed": false
    }
   }
  }
 },
 "nbformat": 4,
 "nbformat_minor": 0
}