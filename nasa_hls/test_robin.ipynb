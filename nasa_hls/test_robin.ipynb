{
 "cells": [
  {
   "cell_type": "markdown",
   "metadata": {
    "collapsed": false
   },
   "source": [
    "## make test-dataset"
   ]
  },
  {
   "cell_type": "code",
   "execution_count": 4,
   "metadata": {},
   "outputs": [],
   "source": [
    "import sys\n",
    "import os\n",
    "sys.path.append(\"/home/robin/python_projects/nasa_hls\")\n",
    "from nasa_hls import download_tiles\n",
    "import geopandas as gp\n",
    "import numpy as np"
   ]
  },
  {
   "cell_type": "code",
   "execution_count": 5,
   "metadata": {},
   "outputs": [],
   "source": [
    "shape_path = \"/home/robin/python_projects/data/nasa_hls/test_shape/dummy_region.shp\""
   ]
  },
  {
   "cell_type": "code",
   "execution_count": 6,
   "metadata": {},
   "outputs": [
    {
     "name": "stdout",
     "output_type": "stream",
     "text": "valid shape, process continues\nyear: 2018\nUTM tiles already successfully downloaded to:\n /home/robin/.nasa_hls/.auxdata/utm.kml \n\n  0%|          | 0/4 [00:00<?, ?it/s]getting available datasets . . .\n100%|██████████| 4/4 [00:07<00:00,  1.76s/it]\n"
    }
   ],
   "source": [
    "df = download_tiles.make_tiles_dataset(shape=shape_path, year = 2018)\n"
   ]
  },
  {
   "cell_type": "code",
   "execution_count": 13,
   "metadata": {},
   "outputs": [
    {
     "data": {
      "text/plain": "numpy.datetime64('2018-01-01')"
     },
     "execution_count": 13,
     "metadata": {},
     "output_type": "execute_result"
    }
   ],
   "source": [
    "test_date = np.datetime64(\"2018-01-01\")\n",
    "test_date"
   ]
  },
  {
   "cell_type": "code",
   "execution_count": 27,
   "metadata": {},
   "outputs": [
    {
     "name": "stdout",
     "output_type": "stream",
     "text": "2018-01-01\n2018-01-03\n2018-01-06\n2018-01-08\n2018-01-11\n2018-01-13\n2018-01-16\n2018-01-18\n2018-01-21\n2018-01-23\n2018-01-26\n2018-01-28\n2018-01-31\n2018-02-07\n2018-02-10\n2018-02-12\n2018-02-15\n2018-02-17\n2018-02-20\n2018-02-22\n2018-02-25\n2018-02-27\n2018-03-02\n2018-03-04\n2018-03-07\n2018-03-09\n2018-03-12\n2018-03-14\n2018-03-22\n2018-03-24\n2018-03-27\n2018-03-29\n2018-04-01\n2018-04-06\n2018-04-08\n2018-04-11\n2018-04-13\n2018-04-16\n2018-04-18\n2018-04-21\n2018-04-23\n2018-05-01\n2018-05-03\n2018-05-06\n2018-05-08\n2018-05-11\n2018-05-13\n2018-05-16\n2018-05-18\n2018-05-21\n2018-05-23\n2018-05-26\n2018-06-02\n2018-06-05\n2018-06-07\n2018-06-10\n2018-06-12\n2018-06-15\n2018-06-17\n2018-06-20\n2018-06-22\n2018-06-25\n2018-06-27\n2018-06-30\n2018-07-02\n2018-07-05\n2018-07-07\n2018-07-10\n2018-07-12\n2018-07-15\n2018-07-17\n2018-07-20\n2018-07-22\n2018-07-25\n2018-07-27\n2018-07-30\n2018-08-01\n2018-08-04\n2018-08-06\n2018-08-09\n2018-08-11\n2018-08-14\n2018-08-16\n2018-08-19\n2018-08-21\n2018-08-24\n2018-08-26\n2018-08-29\n2018-08-31\n2018-09-03\n2018-09-05\n2018-09-08\n2018-09-10\n2018-09-13\n2018-09-15\n2018-09-18\n2018-09-20\n2018-09-23\n2018-09-25\n2018-09-28\n2018-09-30\n2018-10-03\n2018-10-05\n2018-10-08\n2018-10-10\n2018-10-13\n2018-10-15\n2018-10-18\n2018-10-20\n2018-10-23\n2018-10-25\n2018-10-28\n2018-10-30\n2018-11-04\n2018-11-07\n2018-11-09\n2018-11-12\n2018-11-14\n2018-11-17\n2018-11-19\n2018-11-22\n2018-11-24\n2018-11-27\n2018-11-29\n2018-12-02\n2018-12-04\n2018-12-07\n2018-12-09\n2018-12-12\n2018-12-14\n2018-12-17\n2018-12-19\n2018-12-22\n2018-12-24\n2018-12-27\n2018-12-29\n"
    }
   ],
   "source": [
    "import pandas as pd\n",
    "for i in df.keys():\n",
    "    i = pd.to_datetime(i)\n",
    "    i = i.date()\n",
    "    \n",
    "    print(i)\n",
    "    \n",
    "    "
   ]
  },
  {
   "cell_type": "code",
   "execution_count": null,
   "metadata": {},
   "outputs": [],
   "source": [
    "dict([(pd.to_datetime(k), change_keys(v)) for k, v in d.items()])"
   ]
  },
  {
   "cell_type": "code",
   "execution_count": null,
   "outputs": [],
   "source": [
    "df[\"2018-01-01\"]"
   ],
   "metadata": {
    "collapsed": false,
    "pycharm": {
     "name": "#%%\n"
    }
   }
  },
  {
   "cell_type": "code",
   "execution_count": null,
   "outputs": [],
   "source": [
    "# get key of first date\n",
    "key1 = next(iter(df))\n",
    "# get year from fist key\n",
    "key1_dt = pd.to_datetime(key1)\n",
    "key1_year = key1_dt.year\n",
    "\n",
    "# get month\n",
    "key1_month = key1_dt.month\n",
    "\n",
    "# get day\n",
    "key1_day = key1_dt.day\n"
   ],
   "metadata": {
    "collapsed": false,
    "pycharm": {
     "name": "#%%\n"
    }
   }
  },
  {
   "cell_type": "code",
   "execution_count": null,
   "outputs": [],
   "source": [
    "df.keys()"
   ],
   "metadata": {
    "collapsed": false,
    "pycharm": {
     "name": "#%%\n"
    }
   }
  },
  {
   "cell_type": "code",
   "execution_count": 29,
   "metadata": {},
   "outputs": [
    {
     "ename": "KeyError",
     "evalue": "'2018-01-01'",
     "output_type": "error",
     "traceback": [
      "\u001b[0;31m---------------------------------------------------------------------------\u001b[0m",
      "\u001b[0;31mKeyError\u001b[0m                                  Traceback (most recent call last)",
      "\u001b[0;32m<ipython-input-29-d50b9629bd84>\u001b[0m in \u001b[0;36m<module>\u001b[0;34m\u001b[0m\n\u001b[0;32m----> 1\u001b[0;31m \u001b[0mdf\u001b[0m\u001b[0;34m[\u001b[0m\u001b[0;34m\"2018-01-01\"\u001b[0m\u001b[0;34m]\u001b[0m\u001b[0;34m\u001b[0m\u001b[0;34m\u001b[0m\u001b[0m\n\u001b[0m",
      "\u001b[0;31mKeyError\u001b[0m: '2018-01-01'"
     ]
    }
   ],
   "source": [
    "df.keys()"
   ]
  },
  {
   "cell_type": "code",
   "execution_count": 26,
   "metadata": {},
   "outputs": [],
   "source": [
    "# get key of first date\n",
    "key1 = next(iter(df))\n",
    "# get year from fist key\n",
    "key1_dt = pd.to_datetime(key1)\n",
    "key1_year = key1_dt.year\n",
    "\n",
    "# get month\n",
    "key1_month = key1_dt.month\n",
    "\n",
    "# get day\n",
    "key1_day = key1_dt.day\n"
   ]
  },
  {
   "cell_type": "code",
   "execution_count": 31,
   "metadata": {},
   "outputs": [
    {
     "data": {
      "text/plain": "dict_keys([numpy.datetime64('2018-01-01T00:00:00.000000000'), numpy.datetime64('2018-01-03T00:00:00.000000000'), numpy.datetime64('2018-01-06T00:00:00.000000000'), numpy.datetime64('2018-01-08T00:00:00.000000000'), numpy.datetime64('2018-01-11T00:00:00.000000000'), numpy.datetime64('2018-01-13T00:00:00.000000000'), numpy.datetime64('2018-01-16T00:00:00.000000000'), numpy.datetime64('2018-01-18T00:00:00.000000000'), numpy.datetime64('2018-01-21T00:00:00.000000000'), numpy.datetime64('2018-01-23T00:00:00.000000000'), numpy.datetime64('2018-01-26T00:00:00.000000000'), numpy.datetime64('2018-01-28T00:00:00.000000000'), numpy.datetime64('2018-01-31T00:00:00.000000000'), numpy.datetime64('2018-02-07T00:00:00.000000000'), numpy.datetime64('2018-02-10T00:00:00.000000000'), numpy.datetime64('2018-02-12T00:00:00.000000000'), numpy.datetime64('2018-02-15T00:00:00.000000000'), numpy.datetime64('2018-02-17T00:00:00.000000000'), numpy.datetime64('2018-02-20T00:00:00.000000000'), numpy.datetime64('2018-02-22T00:00:00.000000000'), numpy.datetime64('2018-02-25T00:00:00.000000000'), numpy.datetime64('2018-02-27T00:00:00.000000000'), numpy.datetime64('2018-03-02T00:00:00.000000000'), numpy.datetime64('2018-03-04T00:00:00.000000000'), numpy.datetime64('2018-03-07T00:00:00.000000000'), numpy.datetime64('2018-03-09T00:00:00.000000000'), numpy.datetime64('2018-03-12T00:00:00.000000000'), numpy.datetime64('2018-03-14T00:00:00.000000000'), numpy.datetime64('2018-03-22T00:00:00.000000000'), numpy.datetime64('2018-03-24T00:00:00.000000000'), numpy.datetime64('2018-03-27T00:00:00.000000000'), numpy.datetime64('2018-03-29T00:00:00.000000000'), numpy.datetime64('2018-04-01T00:00:00.000000000'), numpy.datetime64('2018-04-06T00:00:00.000000000'), numpy.datetime64('2018-04-08T00:00:00.000000000'), numpy.datetime64('2018-04-11T00:00:00.000000000'), numpy.datetime64('2018-04-13T00:00:00.000000000'), numpy.datetime64('2018-04-16T00:00:00.000000000'), numpy.datetime64('2018-04-18T00:00:00.000000000'), numpy.datetime64('2018-04-21T00:00:00.000000000'), numpy.datetime64('2018-04-23T00:00:00.000000000'), numpy.datetime64('2018-05-01T00:00:00.000000000'), numpy.datetime64('2018-05-03T00:00:00.000000000'), numpy.datetime64('2018-05-06T00:00:00.000000000'), numpy.datetime64('2018-05-08T00:00:00.000000000'), numpy.datetime64('2018-05-11T00:00:00.000000000'), numpy.datetime64('2018-05-13T00:00:00.000000000'), numpy.datetime64('2018-05-16T00:00:00.000000000'), numpy.datetime64('2018-05-18T00:00:00.000000000'), numpy.datetime64('2018-05-21T00:00:00.000000000'), numpy.datetime64('2018-05-23T00:00:00.000000000'), numpy.datetime64('2018-05-26T00:00:00.000000000'), numpy.datetime64('2018-06-02T00:00:00.000000000'), numpy.datetime64('2018-06-05T00:00:00.000000000'), numpy.datetime64('2018-06-07T00:00:00.000000000'), numpy.datetime64('2018-06-10T00:00:00.000000000'), numpy.datetime64('2018-06-12T00:00:00.000000000'), numpy.datetime64('2018-06-15T00:00:00.000000000'), numpy.datetime64('2018-06-17T00:00:00.000000000'), numpy.datetime64('2018-06-20T00:00:00.000000000'), numpy.datetime64('2018-06-22T00:00:00.000000000'), numpy.datetime64('2018-06-25T00:00:00.000000000'), numpy.datetime64('2018-06-27T00:00:00.000000000'), numpy.datetime64('2018-06-30T00:00:00.000000000'), numpy.datetime64('2018-07-02T00:00:00.000000000'), numpy.datetime64('2018-07-05T00:00:00.000000000'), numpy.datetime64('2018-07-07T00:00:00.000000000'), numpy.datetime64('2018-07-10T00:00:00.000000000'), numpy.datetime64('2018-07-12T00:00:00.000000000'), numpy.datetime64('2018-07-15T00:00:00.000000000'), numpy.datetime64('2018-07-17T00:00:00.000000000'), numpy.datetime64('2018-07-20T00:00:00.000000000'), numpy.datetime64('2018-07-22T00:00:00.000000000'), numpy.datetime64('2018-07-25T00:00:00.000000000'), numpy.datetime64('2018-07-27T00:00:00.000000000'), numpy.datetime64('2018-07-30T00:00:00.000000000'), numpy.datetime64('2018-08-01T00:00:00.000000000'), numpy.datetime64('2018-08-04T00:00:00.000000000'), numpy.datetime64('2018-08-06T00:00:00.000000000'), numpy.datetime64('2018-08-09T00:00:00.000000000'), numpy.datetime64('2018-08-11T00:00:00.000000000'), numpy.datetime64('2018-08-14T00:00:00.000000000'), numpy.datetime64('2018-08-16T00:00:00.000000000'), numpy.datetime64('2018-08-19T00:00:00.000000000'), numpy.datetime64('2018-08-21T00:00:00.000000000'), numpy.datetime64('2018-08-24T00:00:00.000000000'), numpy.datetime64('2018-08-26T00:00:00.000000000'), numpy.datetime64('2018-08-29T00:00:00.000000000'), numpy.datetime64('2018-08-31T00:00:00.000000000'), numpy.datetime64('2018-09-03T00:00:00.000000000'), numpy.datetime64('2018-09-05T00:00:00.000000000'), numpy.datetime64('2018-09-08T00:00:00.000000000'), numpy.datetime64('2018-09-10T00:00:00.000000000'), numpy.datetime64('2018-09-13T00:00:00.000000000'), numpy.datetime64('2018-09-15T00:00:00.000000000'), numpy.datetime64('2018-09-18T00:00:00.000000000'), numpy.datetime64('2018-09-20T00:00:00.000000000'), numpy.datetime64('2018-09-23T00:00:00.000000000'), numpy.datetime64('2018-09-25T00:00:00.000000000'), numpy.datetime64('2018-09-28T00:00:00.000000000'), numpy.datetime64('2018-09-30T00:00:00.000000000'), numpy.datetime64('2018-10-03T00:00:00.000000000'), numpy.datetime64('2018-10-05T00:00:00.000000000'), numpy.datetime64('2018-10-08T00:00:00.000000000'), numpy.datetime64('2018-10-10T00:00:00.000000000'), numpy.datetime64('2018-10-13T00:00:00.000000000'), numpy.datetime64('2018-10-15T00:00:00.000000000'), numpy.datetime64('2018-10-18T00:00:00.000000000'), numpy.datetime64('2018-10-20T00:00:00.000000000'), numpy.datetime64('2018-10-23T00:00:00.000000000'), numpy.datetime64('2018-10-25T00:00:00.000000000'), numpy.datetime64('2018-10-28T00:00:00.000000000'), numpy.datetime64('2018-10-30T00:00:00.000000000'), numpy.datetime64('2018-11-04T00:00:00.000000000'), numpy.datetime64('2018-11-07T00:00:00.000000000'), numpy.datetime64('2018-11-09T00:00:00.000000000'), numpy.datetime64('2018-11-12T00:00:00.000000000'), numpy.datetime64('2018-11-14T00:00:00.000000000'), numpy.datetime64('2018-11-17T00:00:00.000000000'), numpy.datetime64('2018-11-19T00:00:00.000000000'), numpy.datetime64('2018-11-22T00:00:00.000000000'), numpy.datetime64('2018-11-24T00:00:00.000000000'), numpy.datetime64('2018-11-27T00:00:00.000000000'), numpy.datetime64('2018-11-29T00:00:00.000000000'), numpy.datetime64('2018-12-02T00:00:00.000000000'), numpy.datetime64('2018-12-04T00:00:00.000000000'), numpy.datetime64('2018-12-07T00:00:00.000000000'), numpy.datetime64('2018-12-09T00:00:00.000000000'), numpy.datetime64('2018-12-12T00:00:00.000000000'), numpy.datetime64('2018-12-14T00:00:00.000000000'), numpy.datetime64('2018-12-17T00:00:00.000000000'), numpy.datetime64('2018-12-19T00:00:00.000000000'), numpy.datetime64('2018-12-22T00:00:00.000000000'), numpy.datetime64('2018-12-24T00:00:00.000000000'), numpy.datetime64('2018-12-27T00:00:00.000000000'), numpy.datetime64('2018-12-29T00:00:00.000000000')])"
     },
     "execution_count": 31,
     "metadata": {},
     "output_type": "execute_result"
    }
   ],
   "source": [
    "df.keys()"
   ]
  }
 ],
 "metadata": {
  "kernelspec": {
   "name": "python38064bitdsconda53e6bf24877e466abee036a856ec7fc9",
   "language": "python",
   "display_name": "Python 3.8.0 64-bit ('ds': conda)"
  },
  "language_info": {
   "codemirror_mode": {
    "name": "ipython",
    "version": 2
   },
   "file_extension": ".py",
   "mimetype": "text/x-python",
   "name": "python",
   "nbconvert_exporter": "python",
   "pygments_lexer": "ipython2",
   "version": "3.8.0-final"
  },
  "pycharm": {
   "stem_cell": {
    "cell_type": "raw",
    "source": [],
    "metadata": {
     "collapsed": false
    }
   }
  }
 },
 "nbformat": 4,
 "nbformat_minor": 0
}