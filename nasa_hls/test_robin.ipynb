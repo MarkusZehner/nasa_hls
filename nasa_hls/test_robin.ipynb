{
 "cells": [
  {
   "cell_type": "markdown",
   "metadata": {
    "collapsed": false
   },
   "source": [
    "## make test-dataset"
   ]
  },
  {
   "cell_type": "code",
   "execution_count": 5,
   "metadata": {},
   "outputs": [],
   "source": [
    "import sys\n",
    "import os\n",
    "sys.path.append(\"/home/robin/python_projects/nasa_hls\")\n",
    "sys.path\n",
    "from nasa_hls import download_tiles\n",
    "import geopandas as gp"
   ]
  },
  {
   "cell_type": "code",
   "execution_count": 2,
   "metadata": {},
   "outputs": [],
   "source": [
    "# define path to shape\n",
    "shape_path = \"/home/robin/python_projects/data/nasa_hls/test_shape/dummy_region.shp\""
   ]
  }
 ],
 "metadata": {
  "kernelspec": {
   "name": "python38064bitdsconda53e6bf24877e466abee036a856ec7fc9",
   "language": "python",
   "display_name": "Python 3.8.0 64-bit ('ds': conda)"
  },
  "language_info": {
   "codemirror_mode": {
    "name": "ipython",
    "version": 2
   },
   "file_extension": ".py",
   "mimetype": "text/x-python",
   "name": "python",
   "nbconvert_exporter": "python",
   "pygments_lexer": "ipython2",
   "version": "3.8.0-final"
  },
  "pycharm": {
   "stem_cell": {
    "cell_type": "raw",
    "source": [],
    "metadata": {
     "collapsed": false
    }
   }
  }
 },
 "nbformat": 4,
 "nbformat_minor": 0
}